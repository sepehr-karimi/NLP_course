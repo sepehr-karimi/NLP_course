{
  "nbformat": 4,
  "nbformat_minor": 0,
  "metadata": {
    "colab": {
      "provenance": []
    },
    "kernelspec": {
      "name": "python3",
      "display_name": "Python 3"
    },
    "language_info": {
      "name": "python"
    }
  },
  "cells": [
    {
      "cell_type": "markdown",
      "source": [
        "## Step 0 : initializations"
      ],
      "metadata": {
        "id": "4jr1kpAB2LW1"
      }
    },
    {
      "cell_type": "code",
      "source": [
        "!pip install -q hazm\n",
        "!pip install -q clean-text[gpl]\n",
        "!pip install -q persian_wordcloud\n"
      ],
      "metadata": {
        "id": "3f_9xVCELZYD"
      },
      "execution_count": 34,
      "outputs": []
    },
    {
      "cell_type": "code",
      "execution_count": 35,
      "metadata": {
        "id": "MqKqIBqBsJvX"
      },
      "outputs": [],
      "source": [
        "import pandas as pd\n",
        "import seaborn as sns\n",
        "import numpy as np\n",
        "import seaborn as sns\n",
        "import matplotlib.pyplot as plt\n",
        "import os\n",
        "import re\n",
        "import hazm\n",
        "from cleantext import clean\n",
        "from IPython.display import Image\n",
        "\n",
        "#essential sklearn libraries\n",
        "from sklearn.naive_bayes import MultinomialNB\n",
        "from sklearn.linear_model import LogisticRegression\n",
        "from sklearn.metrics import confusion_matrix\n",
        "from sklearn import metrics\n",
        "from sklearn.model_selection import train_test_split\n",
        "from sklearn.metrics import accuracy_score, recall_score, precision_score, f1_score\n",
        "\n",
        "from persian_wordcloud.wordcloud import PersianWordCloud, add_stop_words\n"
      ]
    },
    {
      "cell_type": "markdown",
      "source": [
        "## Step 1 : Loading data And Preprocessings"
      ],
      "metadata": {
        "id": "UBmQh8jstKVR"
      }
    },
    {
      "cell_type": "markdown",
      "source": [
        "first we load data From drive into df, and add it's column names."
      ],
      "metadata": {
        "id": "XIrso8WZRpUc"
      }
    },
    {
      "cell_type": "code",
      "source": [
        "df = pd.read_csv('/content/drive/MyDrive/NLP/HW2/Snappfood - Sentiment Analysis.csv', encoding='utf-8', sep='\\t')\n",
        "df = df[['comment', 'label', 'label_id']]"
      ],
      "metadata": {
        "id": "072YutqctKeH"
      },
      "execution_count": 36,
      "outputs": []
    },
    {
      "cell_type": "code",
      "source": [
        "df"
      ],
      "metadata": {
        "colab": {
          "base_uri": "https://localhost:8080/",
          "height": 423
        },
        "id": "LyY_oP5r-bUY",
        "outputId": "08b0ecb6-aece-4a1d-b1f2-2351f2820850"
      },
      "execution_count": 37,
      "outputs": [
        {
          "output_type": "execute_result",
          "data": {
            "text/plain": [
              "                                                 comment  label  label_id\n",
              "0        واقعا حیف وقت که بنویسم سرویس دهیتون شده افتضاح    SAD       1.0\n",
              "1      قرار بود ۱ ساعته برسه ولی نیم ساعت زودتر از مو...  HAPPY       0.0\n",
              "2      قیمت این مدل اصلا با کیفیتش سازگاری نداره، فقط...    SAD       1.0\n",
              "3      عالللی بود همه چه درست و به اندازه و کیفیت خوب...  HAPPY       0.0\n",
              "4                          شیرینی وانیلی فقط یک مدل بود.  HAPPY       0.0\n",
              "...                                                  ...    ...       ...\n",
              "69995  سلام من به فاکتور غذاهایی که سفارش میدم احتیاج...    SAD       1.0\n",
              "69996  سایز پیتزا نسبت به سفارشاتی که قبلا گذشتم کم ش...    SAD       1.0\n",
              "69997  من قارچ اضافه رو اضافه کرده بودم بودم اما اگر ...  HAPPY       0.0\n",
              "69998  همرو بعد ۲ساعت تاخیر اشتباه آوردن پولشم رفت رو...    SAD       1.0\n",
              "69999                             فلفلش خییییلی تند بود.  HAPPY       0.0\n",
              "\n",
              "[70000 rows x 3 columns]"
            ],
            "text/html": [
              "\n",
              "  <div id=\"df-93f029c3-9d86-4815-9143-0bf1ea9c7fb9\">\n",
              "    <div class=\"colab-df-container\">\n",
              "      <div>\n",
              "<style scoped>\n",
              "    .dataframe tbody tr th:only-of-type {\n",
              "        vertical-align: middle;\n",
              "    }\n",
              "\n",
              "    .dataframe tbody tr th {\n",
              "        vertical-align: top;\n",
              "    }\n",
              "\n",
              "    .dataframe thead th {\n",
              "        text-align: right;\n",
              "    }\n",
              "</style>\n",
              "<table border=\"1\" class=\"dataframe\">\n",
              "  <thead>\n",
              "    <tr style=\"text-align: right;\">\n",
              "      <th></th>\n",
              "      <th>comment</th>\n",
              "      <th>label</th>\n",
              "      <th>label_id</th>\n",
              "    </tr>\n",
              "  </thead>\n",
              "  <tbody>\n",
              "    <tr>\n",
              "      <th>0</th>\n",
              "      <td>واقعا حیف وقت که بنویسم سرویس دهیتون شده افتضاح</td>\n",
              "      <td>SAD</td>\n",
              "      <td>1.0</td>\n",
              "    </tr>\n",
              "    <tr>\n",
              "      <th>1</th>\n",
              "      <td>قرار بود ۱ ساعته برسه ولی نیم ساعت زودتر از مو...</td>\n",
              "      <td>HAPPY</td>\n",
              "      <td>0.0</td>\n",
              "    </tr>\n",
              "    <tr>\n",
              "      <th>2</th>\n",
              "      <td>قیمت این مدل اصلا با کیفیتش سازگاری نداره، فقط...</td>\n",
              "      <td>SAD</td>\n",
              "      <td>1.0</td>\n",
              "    </tr>\n",
              "    <tr>\n",
              "      <th>3</th>\n",
              "      <td>عالللی بود همه چه درست و به اندازه و کیفیت خوب...</td>\n",
              "      <td>HAPPY</td>\n",
              "      <td>0.0</td>\n",
              "    </tr>\n",
              "    <tr>\n",
              "      <th>4</th>\n",
              "      <td>شیرینی وانیلی فقط یک مدل بود.</td>\n",
              "      <td>HAPPY</td>\n",
              "      <td>0.0</td>\n",
              "    </tr>\n",
              "    <tr>\n",
              "      <th>...</th>\n",
              "      <td>...</td>\n",
              "      <td>...</td>\n",
              "      <td>...</td>\n",
              "    </tr>\n",
              "    <tr>\n",
              "      <th>69995</th>\n",
              "      <td>سلام من به فاکتور غذاهایی که سفارش میدم احتیاج...</td>\n",
              "      <td>SAD</td>\n",
              "      <td>1.0</td>\n",
              "    </tr>\n",
              "    <tr>\n",
              "      <th>69996</th>\n",
              "      <td>سایز پیتزا نسبت به سفارشاتی که قبلا گذشتم کم ش...</td>\n",
              "      <td>SAD</td>\n",
              "      <td>1.0</td>\n",
              "    </tr>\n",
              "    <tr>\n",
              "      <th>69997</th>\n",
              "      <td>من قارچ اضافه رو اضافه کرده بودم بودم اما اگر ...</td>\n",
              "      <td>HAPPY</td>\n",
              "      <td>0.0</td>\n",
              "    </tr>\n",
              "    <tr>\n",
              "      <th>69998</th>\n",
              "      <td>همرو بعد ۲ساعت تاخیر اشتباه آوردن پولشم رفت رو...</td>\n",
              "      <td>SAD</td>\n",
              "      <td>1.0</td>\n",
              "    </tr>\n",
              "    <tr>\n",
              "      <th>69999</th>\n",
              "      <td>فلفلش خییییلی تند بود.</td>\n",
              "      <td>HAPPY</td>\n",
              "      <td>0.0</td>\n",
              "    </tr>\n",
              "  </tbody>\n",
              "</table>\n",
              "<p>70000 rows × 3 columns</p>\n",
              "</div>\n",
              "      <button class=\"colab-df-convert\" onclick=\"convertToInteractive('df-93f029c3-9d86-4815-9143-0bf1ea9c7fb9')\"\n",
              "              title=\"Convert this dataframe to an interactive table.\"\n",
              "              style=\"display:none;\">\n",
              "        \n",
              "  <svg xmlns=\"http://www.w3.org/2000/svg\" height=\"24px\"viewBox=\"0 0 24 24\"\n",
              "       width=\"24px\">\n",
              "    <path d=\"M0 0h24v24H0V0z\" fill=\"none\"/>\n",
              "    <path d=\"M18.56 5.44l.94 2.06.94-2.06 2.06-.94-2.06-.94-.94-2.06-.94 2.06-2.06.94zm-11 1L8.5 8.5l.94-2.06 2.06-.94-2.06-.94L8.5 2.5l-.94 2.06-2.06.94zm10 10l.94 2.06.94-2.06 2.06-.94-2.06-.94-.94-2.06-.94 2.06-2.06.94z\"/><path d=\"M17.41 7.96l-1.37-1.37c-.4-.4-.92-.59-1.43-.59-.52 0-1.04.2-1.43.59L10.3 9.45l-7.72 7.72c-.78.78-.78 2.05 0 2.83L4 21.41c.39.39.9.59 1.41.59.51 0 1.02-.2 1.41-.59l7.78-7.78 2.81-2.81c.8-.78.8-2.07 0-2.86zM5.41 20L4 18.59l7.72-7.72 1.47 1.35L5.41 20z\"/>\n",
              "  </svg>\n",
              "      </button>\n",
              "      \n",
              "  <style>\n",
              "    .colab-df-container {\n",
              "      display:flex;\n",
              "      flex-wrap:wrap;\n",
              "      gap: 12px;\n",
              "    }\n",
              "\n",
              "    .colab-df-convert {\n",
              "      background-color: #E8F0FE;\n",
              "      border: none;\n",
              "      border-radius: 50%;\n",
              "      cursor: pointer;\n",
              "      display: none;\n",
              "      fill: #1967D2;\n",
              "      height: 32px;\n",
              "      padding: 0 0 0 0;\n",
              "      width: 32px;\n",
              "    }\n",
              "\n",
              "    .colab-df-convert:hover {\n",
              "      background-color: #E2EBFA;\n",
              "      box-shadow: 0px 1px 2px rgba(60, 64, 67, 0.3), 0px 1px 3px 1px rgba(60, 64, 67, 0.15);\n",
              "      fill: #174EA6;\n",
              "    }\n",
              "\n",
              "    [theme=dark] .colab-df-convert {\n",
              "      background-color: #3B4455;\n",
              "      fill: #D2E3FC;\n",
              "    }\n",
              "\n",
              "    [theme=dark] .colab-df-convert:hover {\n",
              "      background-color: #434B5C;\n",
              "      box-shadow: 0px 1px 3px 1px rgba(0, 0, 0, 0.15);\n",
              "      filter: drop-shadow(0px 1px 2px rgba(0, 0, 0, 0.3));\n",
              "      fill: #FFFFFF;\n",
              "    }\n",
              "  </style>\n",
              "\n",
              "      <script>\n",
              "        const buttonEl =\n",
              "          document.querySelector('#df-93f029c3-9d86-4815-9143-0bf1ea9c7fb9 button.colab-df-convert');\n",
              "        buttonEl.style.display =\n",
              "          google.colab.kernel.accessAllowed ? 'block' : 'none';\n",
              "\n",
              "        async function convertToInteractive(key) {\n",
              "          const element = document.querySelector('#df-93f029c3-9d86-4815-9143-0bf1ea9c7fb9');\n",
              "          const dataTable =\n",
              "            await google.colab.kernel.invokeFunction('convertToInteractive',\n",
              "                                                     [key], {});\n",
              "          if (!dataTable) return;\n",
              "\n",
              "          const docLinkHtml = 'Like what you see? Visit the ' +\n",
              "            '<a target=\"_blank\" href=https://colab.research.google.com/notebooks/data_table.ipynb>data table notebook</a>'\n",
              "            + ' to learn more about interactive tables.';\n",
              "          element.innerHTML = '';\n",
              "          dataTable['output_type'] = 'display_data';\n",
              "          await google.colab.output.renderOutput(dataTable, element);\n",
              "          const docLink = document.createElement('div');\n",
              "          docLink.innerHTML = docLinkHtml;\n",
              "          element.appendChild(docLink);\n",
              "        }\n",
              "      </script>\n",
              "    </div>\n",
              "  </div>\n",
              "  "
            ]
          },
          "metadata": {},
          "execution_count": 37
        }
      ]
    },
    {
      "cell_type": "markdown",
      "source": [
        "Here we will check if there are any null values in the dataframe and drop them"
      ],
      "metadata": {
        "id": "TQPbE4VzRzkQ"
      }
    },
    {
      "cell_type": "code",
      "source": [
        "df = df.dropna(axis='rows')\n",
        "df.isna().sum()"
      ],
      "metadata": {
        "colab": {
          "base_uri": "https://localhost:8080/"
        },
        "id": "lN6Z6r7uKjel",
        "outputId": "beaa3635-582f-4f55-9c23-7194975ba8aa"
      },
      "execution_count": 38,
      "outputs": [
        {
          "output_type": "execute_result",
          "data": {
            "text/plain": [
              "comment     0\n",
              "label       0\n",
              "label_id    0\n",
              "dtype: int64"
            ]
          },
          "metadata": {},
          "execution_count": 38
        }
      ]
    },
    {
      "cell_type": "markdown",
      "source": [
        "As we can see from the below diagram the dataset is relatively balanced."
      ],
      "metadata": {
        "id": "ZkiDx5TqR8yr"
      }
    },
    {
      "cell_type": "code",
      "source": [
        "sns.countplot(x ='label', data = df)\n"
      ],
      "metadata": {
        "colab": {
          "base_uri": "https://localhost:8080/",
          "height": 467
        },
        "id": "Sn6uSS1ILBlo",
        "outputId": "149b3281-7b39-4739-89d9-706e13661174"
      },
      "execution_count": 39,
      "outputs": [
        {
          "output_type": "execute_result",
          "data": {
            "text/plain": [
              "<Axes: xlabel='label', ylabel='count'>"
            ]
          },
          "metadata": {},
          "execution_count": 39
        },
        {
          "output_type": "display_data",
          "data": {
            "text/plain": [
              "<Figure size 640x480 with 1 Axes>"
            ],
            "image/png": "[encoded data removed]"
          },
          "metadata": {}
        }
      ]
    },
    {
      "cell_type": "markdown",
      "source": [
        "Here we sample 20 percent of dataset as it's said in the HW."
      ],
      "metadata": {
        "id": "u6VtSir3KrKY"
      }
    },
    {
      "cell_type": "code",
      "source": [
        "sample_df = df.groupby('label_id').apply(lambda x: x.sample(frac=0.2,random_state=20))\n",
        "sample_df"
      ],
      "metadata": {
        "colab": {
          "base_uri": "https://localhost:8080/",
          "height": 455
        },
        "id": "29-1T-MMKqjI",
        "outputId": "e0dbbf07-7cf8-44ea-a92a-173b2405a2d5"
      },
      "execution_count": 40,
      "outputs": [
        {
          "output_type": "execute_result",
          "data": {
            "text/plain": [
              "                                                          comment  label  \\\n",
              "label_id                                                                   \n",
              "0.0      32286  مثل همیشه عالی جوجه کباب خوش طمع و برشته بود س...  HAPPY   \n",
              "         22081                                بسیار خوشمزه و عالی  HAPPY   \n",
              "         62728  ناپلئونی بد نیست اما باقلواشون زیادی عسلی و خش...  HAPPY   \n",
              "         9901   سلام خیلی خوشمزه بود بخصوص طعم کنجد رو خیلی دو...  HAPPY   \n",
              "         46283  گفته بودم سس مخصوص خودشون و بزارن چرا نزاشته ب...  HAPPY   \n",
              "...                                                           ...    ...   \n",
              "1.0      52332  طعم زردچوبه میداد خیلی زیاد. حالا یا بخاطر مون...    SAD   \n",
              "         67032          واقعا افتضاح بود به تمام معنا خشک و سوخته    SAD   \n",
              "         21346  نان سنگک دو رو کنجد زده بودن ولی کنجد رو به نا...    SAD   \n",
              "         67506  کیفیت پیتزا خیلی پایین بود، طوری که قابل خوردن...    SAD   \n",
              "         55106  مرغ ابپز و بدون رنگ و طعم بود. با عکسی که گذاش...    SAD   \n",
              "\n",
              "                label_id  \n",
              "label_id                  \n",
              "0.0      32286       0.0  \n",
              "         22081       0.0  \n",
              "         62728       0.0  \n",
              "         9901        0.0  \n",
              "         46283       0.0  \n",
              "...                  ...  \n",
              "1.0      52332       1.0  \n",
              "         67032       1.0  \n",
              "         21346       1.0  \n",
              "         67506       1.0  \n",
              "         55106       1.0  \n",
              "\n",
              "[13896 rows x 3 columns]"
            ],
            "text/html": [
              "\n",
              "  <div id=\"df-9213e670-e3df-4d6b-92c1-fc49c87f850c\">\n",
              "    <div class=\"colab-df-container\">\n",
              "      <div>\n",
              "<style scoped>\n",
              "    .dataframe tbody tr th:only-of-type {\n",
              "        vertical-align: middle;\n",
              "    }\n",
              "\n",
              "    .dataframe tbody tr th {\n",
              "        vertical-align: top;\n",
              "    }\n",
              "\n",
              "    .dataframe thead th {\n",
              "        text-align: right;\n",
              "    }\n",
              "</style>\n",
              "<table border=\"1\" class=\"dataframe\">\n",
              "  <thead>\n",
              "    <tr style=\"text-align: right;\">\n",
              "      <th></th>\n",
              "      <th></th>\n",
              "      <th>comment</th>\n",
              "      <th>label</th>\n",
              "      <th>label_id</th>\n",
              "    </tr>\n",
              "    <tr>\n",
              "      <th>label_id</th>\n",
              "      <th></th>\n",
              "      <th></th>\n",
              "      <th></th>\n",
              "      <th></th>\n",
              "    </tr>\n",
              "  </thead>\n",
              "  <tbody>\n",
              "    <tr>\n",
              "      <th rowspan=\"5\" valign=\"top\">0.0</th>\n",
              "      <th>32286</th>\n",
              "      <td>مثل همیشه عالی جوجه کباب خوش طمع و برشته بود س...</td>\n",
              "      <td>HAPPY</td>\n",
              "      <td>0.0</td>\n",
              "    </tr>\n",
              "    <tr>\n",
              "      <th>22081</th>\n",
              "      <td>بسیار خوشمزه و عالی</td>\n",
              "      <td>HAPPY</td>\n",
              "      <td>0.0</td>\n",
              "    </tr>\n",
              "    <tr>\n",
              "      <th>62728</th>\n",
              "      <td>ناپلئونی بد نیست اما باقلواشون زیادی عسلی و خش...</td>\n",
              "      <td>HAPPY</td>\n",
              "      <td>0.0</td>\n",
              "    </tr>\n",
              "    <tr>\n",
              "      <th>9901</th>\n",
              "      <td>سلام خیلی خوشمزه بود بخصوص طعم کنجد رو خیلی دو...</td>\n",
              "      <td>HAPPY</td>\n",
              "      <td>0.0</td>\n",
              "    </tr>\n",
              "    <tr>\n",
              "      <th>46283</th>\n",
              "      <td>گفته بودم سس مخصوص خودشون و بزارن چرا نزاشته ب...</td>\n",
              "      <td>HAPPY</td>\n",
              "      <td>0.0</td>\n",
              "    </tr>\n",
              "    <tr>\n",
              "      <th>...</th>\n",
              "      <th>...</th>\n",
              "      <td>...</td>\n",
              "      <td>...</td>\n",
              "      <td>...</td>\n",
              "    </tr>\n",
              "    <tr>\n",
              "      <th rowspan=\"5\" valign=\"top\">1.0</th>\n",
              "      <th>52332</th>\n",
              "      <td>طعم زردچوبه میداد خیلی زیاد. حالا یا بخاطر مون...</td>\n",
              "      <td>SAD</td>\n",
              "      <td>1.0</td>\n",
              "    </tr>\n",
              "    <tr>\n",
              "      <th>67032</th>\n",
              "      <td>واقعا افتضاح بود به تمام معنا خشک و سوخته</td>\n",
              "      <td>SAD</td>\n",
              "      <td>1.0</td>\n",
              "    </tr>\n",
              "    <tr>\n",
              "      <th>21346</th>\n",
              "      <td>نان سنگک دو رو کنجد زده بودن ولی کنجد رو به نا...</td>\n",
              "      <td>SAD</td>\n",
              "      <td>1.0</td>\n",
              "    </tr>\n",
              "    <tr>\n",
              "      <th>67506</th>\n",
              "      <td>کیفیت پیتزا خیلی پایین بود، طوری که قابل خوردن...</td>\n",
              "      <td>SAD</td>\n",
              "      <td>1.0</td>\n",
              "    </tr>\n",
              "    <tr>\n",
              "      <th>55106</th>\n",
              "      <td>مرغ ابپز و بدون رنگ و طعم بود. با عکسی که گذاش...</td>\n",
              "      <td>SAD</td>\n",
              "      <td>1.0</td>\n",
              "    </tr>\n",
              "  </tbody>\n",
              "</table>\n",
              "<p>13896 rows × 3 columns</p>\n",
              "</div>\n",
              "      <button class=\"colab-df-convert\" onclick=\"convertToInteractive('df-9213e670-e3df-4d6b-92c1-fc49c87f850c')\"\n",
              "              title=\"Convert this dataframe to an interactive table.\"\n",
              "              style=\"display:none;\">\n",
              "        \n",
              "  <svg xmlns=\"http://www.w3.org/2000/svg\" height=\"24px\"viewBox=\"0 0 24 24\"\n",
              "       width=\"24px\">\n",
              "    <path d=\"M0 0h24v24H0V0z\" fill=\"none\"/>\n",
              "    <path d=\"M18.56 5.44l.94 2.06.94-2.06 2.06-.94-2.06-.94-.94-2.06-.94 2.06-2.06.94zm-11 1L8.5 8.5l.94-2.06 2.06-.94-2.06-.94L8.5 2.5l-.94 2.06-2.06.94zm10 10l.94 2.06.94-2.06 2.06-.94-2.06-.94-.94-2.06-.94 2.06-2.06.94z\"/><path d=\"M17.41 7.96l-1.37-1.37c-.4-.4-.92-.59-1.43-.59-.52 0-1.04.2-1.43.59L10.3 9.45l-7.72 7.72c-.78.78-.78 2.05 0 2.83L4 21.41c.39.39.9.59 1.41.59.51 0 1.02-.2 1.41-.59l7.78-7.78 2.81-2.81c.8-.78.8-2.07 0-2.86zM5.41 20L4 18.59l7.72-7.72 1.47 1.35L5.41 20z\"/>\n",
              "  </svg>\n",
              "      </button>\n",
              "      \n",
              "  <style>\n",
              "    .colab-df-container {\n",
              "      display:flex;\n",
              "      flex-wrap:wrap;\n",
              "      gap: 12px;\n",
              "    }\n",
              "\n",
              "    .colab-df-convert {\n",
              "      background-color: #E8F0FE;\n",
              "      border: none;\n",
              "      border-radius: 50%;\n",
              "      cursor: pointer;\n",
              "      display: none;\n",
              "      fill: #1967D2;\n",
              "      height: 32px;\n",
              "      padding: 0 0 0 0;\n",
              "      width: 32px;\n",
              "    }\n",
              "\n",
              "    .colab-df-convert:hover {\n",
              "      background-color: #E2EBFA;\n",
              "      box-shadow: 0px 1px 2px rgba(60, 64, 67, 0.3), 0px 1px 3px 1px rgba(60, 64, 67, 0.15);\n",
              "      fill: #174EA6;\n",
              "    }\n",
              "\n",
              "    [theme=dark] .colab-df-convert {\n",
              "      background-color: #3B4455;\n",
              "      fill: #D2E3FC;\n",
              "    }\n",
              "\n",
              "    [theme=dark] .colab-df-convert:hover {\n",
              "      background-color: #434B5C;\n",
              "      box-shadow: 0px 1px 3px 1px rgba(0, 0, 0, 0.15);\n",
              "      filter: drop-shadow(0px 1px 2px rgba(0, 0, 0, 0.3));\n",
              "      fill: #FFFFFF;\n",
              "    }\n",
              "  </style>\n",
              "\n",
              "      <script>\n",
              "        const buttonEl =\n",
              "          document.querySelector('#df-9213e670-e3df-4d6b-92c1-fc49c87f850c button.colab-df-convert');\n",
              "        buttonEl.style.display =\n",
              "          google.colab.kernel.accessAllowed ? 'block' : 'none';\n",
              "\n",
              "        async function convertToInteractive(key) {\n",
              "          const element = document.querySelector('#df-9213e670-e3df-4d6b-92c1-fc49c87f850c');\n",
              "          const dataTable =\n",
              "            await google.colab.kernel.invokeFunction('convertToInteractive',\n",
              "                                                     [key], {});\n",
              "          if (!dataTable) return;\n",
              "\n",
              "          const docLinkHtml = 'Like what you see? Visit the ' +\n",
              "            '<a target=\"_blank\" href=https://colab.research.google.com/notebooks/data_table.ipynb>data table notebook</a>'\n",
              "            + ' to learn more about interactive tables.';\n",
              "          element.innerHTML = '';\n",
              "          dataTable['output_type'] = 'display_data';\n",
              "          await google.colab.output.renderOutput(dataTable, element);\n",
              "          const docLink = document.createElement('div');\n",
              "          docLink.innerHTML = docLinkHtml;\n",
              "          element.appendChild(docLink);\n",
              "        }\n",
              "      </script>\n",
              "    </div>\n",
              "  </div>\n",
              "  "
            ]
          },
          "metadata": {},
          "execution_count": 40
        }
      ]
    },
    {
      "cell_type": "code",
      "source": [
        "sample_df['label_id'].value_counts()"
      ],
      "metadata": {
        "colab": {
          "base_uri": "https://localhost:8080/"
        },
        "id": "hHuOP1dBK8mV",
        "outputId": "431e1522-775a-4b8a-b552-c8c070432dbb"
      },
      "execution_count": 41,
      "outputs": [
        {
          "output_type": "execute_result",
          "data": {
            "text/plain": [
              "0.0    6983\n",
              "1.0    6913\n",
              "Name: label_id, dtype: int64"
            ]
          },
          "metadata": {},
          "execution_count": 41
        }
      ]
    },
    {
      "cell_type": "markdown",
      "source": [
        "Here we are going to create a funtion called textPreprosseing to  fix unicode errors, make sentences lowercase, delete urls and delete hashtags. also we're going to delete extra charrecters and normalize using hazm library."
      ],
      "metadata": {
        "id": "_m8gtKPbS6F4"
      }
    },
    {
      "cell_type": "code",
      "source": [
        "def clean_html(s):\n",
        "    return re.sub(re.compile('<.*?>'), '', s)\n",
        "    \n",
        "def text_preprocessing(s):\n",
        "  s = s.strip()\n",
        "  s = clean(s,\n",
        "    fix_unicode=True,               # fix various unicode errors\n",
        "    to_ascii=False,                  # transliterate to closest ASCII representation\n",
        "    lower=True,                     # lowercase text\n",
        "    no_line_breaks=True,           # fully strip line breaks as opposed to only normalizing them\n",
        "    no_urls=True,                  # replace all URLs with a special token\n",
        "    no_emails=True,                # replace all email addresses with a special token\n",
        "    no_phone_numbers=True,         # replace all phone numbers with a special token\n",
        "    no_numbers=False,               # replace all numbers with a special token\n",
        "    no_digits=False,                # replace all digits with a special token\n",
        "    no_currency_symbols=False,      # replace all currency symbols with a special token\n",
        "    no_punct=False,                 # remove punctuations\n",
        "    replace_with_punct=\"\",          # instead of removing punctuations you may replace them\n",
        "    replace_with_url=\"\",\n",
        "    replace_with_email=\"\",\n",
        "    replace_with_phone_number=\"\",\n",
        "    replace_with_number=\"\",\n",
        "    replace_with_digit=\"0\",\n",
        "    replace_with_currency_symbol=\"\",\n",
        ")\n",
        "  \n",
        "  s = clean_html(s)\n",
        "\n",
        "  normalizer = hazm.Normalizer()\n",
        "  s = normalizer.normalize(s)\n",
        "\n",
        "  extra_characters = re.compile(\"[\"\n",
        "    u\"\\U0001F600-\\U0001F64F\"  \n",
        "    u\"\\U0001F300-\\U0001F5FF\"  \n",
        "    u\"\\U0001F680-\\U0001F6FF\"  \n",
        "    u\"\\U0001F1E0-\\U0001F1FF\"  \n",
        "    u\"\\U00002702-\\U000027B0\"\n",
        "    u\"\\U000024C2-\\U0001F251\"\n",
        "    u\"\\U0001f926-\\U0001f937\"\n",
        "    u'\\U00010000-\\U0010ffff'\n",
        "    u\"\\u200d\"\n",
        "    u\"\\u2640-\\u2642\"\n",
        "    u\"\\u2600-\\u2B55\"\n",
        "    u\"\\u23cf\"\n",
        "    u\"\\u23e9\"\n",
        "    u\"\\u231a\"\n",
        "    u\"\\u3030\"\n",
        "    u\"\\ufe0f\"\n",
        "    u\"\\u2069\"\n",
        "    u\"\\u2066\"\n",
        "    u\"\\u2068\"\n",
        "    u\"\\u2067\"\n",
        "    \"]+\", flags=re.UNICODE)\n",
        "\n",
        "  s = extra_characters.sub(r'', s)\n",
        "  s = re.sub(\"\\s+\", \" \", s)         # trailing whitespace\n",
        "  s = re.sub(r'(@.*?)[\\s]', ' ', s) # @ mentions\n",
        "  s = re.sub(\"#\", \"\", s)            # hashtags\n",
        "\n",
        "  return s\n"
      ],
      "metadata": {
        "id": "JgHAnLh5MqCv"
      },
      "execution_count": 42,
      "outputs": []
    },
    {
      "cell_type": "markdown",
      "source": [
        "Here we'll call the preprosseing function and put cleaned comments in 'cleaned_comment' column"
      ],
      "metadata": {
        "id": "7rkX28HNTXIM"
      }
    },
    {
      "cell_type": "code",
      "source": [
        "df_cleaned = sample_df\n",
        "df_cleaned['cleaned_comment'] = sample_df['comment'].apply(text_preprocessing)\n",
        "df_cleaned"
      ],
      "metadata": {
        "id": "dvnc3hSYMybM",
        "colab": {
          "base_uri": "https://localhost:8080/",
          "height": 455
        },
        "outputId": "da337831-a8a4-460c-b10e-8a979f145c9f"
      },
      "execution_count": 43,
      "outputs": [
        {
          "output_type": "execute_result",
          "data": {
            "text/plain": [
              "                                                          comment  label  \\\n",
              "label_id                                                                   \n",
              "0.0      32286  مثل همیشه عالی جوجه کباب خوش طمع و برشته بود س...  HAPPY   \n",
              "         22081                                بسیار خوشمزه و عالی  HAPPY   \n",
              "         62728  ناپلئونی بد نیست اما باقلواشون زیادی عسلی و خش...  HAPPY   \n",
              "         9901   سلام خیلی خوشمزه بود بخصوص طعم کنجد رو خیلی دو...  HAPPY   \n",
              "         46283  گفته بودم سس مخصوص خودشون و بزارن چرا نزاشته ب...  HAPPY   \n",
              "...                                                           ...    ...   \n",
              "1.0      52332  طعم زردچوبه میداد خیلی زیاد. حالا یا بخاطر مون...    SAD   \n",
              "         67032          واقعا افتضاح بود به تمام معنا خشک و سوخته    SAD   \n",
              "         21346  نان سنگک دو رو کنجد زده بودن ولی کنجد رو به نا...    SAD   \n",
              "         67506  کیفیت پیتزا خیلی پایین بود، طوری که قابل خوردن...    SAD   \n",
              "         55106  مرغ ابپز و بدون رنگ و طعم بود. با عکسی که گذاش...    SAD   \n",
              "\n",
              "                label_id                                    cleaned_comment  \n",
              "label_id                                                                     \n",
              "0.0      32286       0.0  مثل همیشه عالی جوجه کباب خوش طمع و برشته بود س...  \n",
              "         22081       0.0                                بسیار خوشمزه و عالی  \n",
              "         62728       0.0  ناپلئونی بد نیست اما باقلواشون زیادی عسلی و خش...  \n",
              "         9901        0.0  سلام خیلی خوشمزه بود بخصوص طعم کنجد رو خیلی دو...  \n",
              "         46283       0.0  گفته بودم سس مخصوص خودشون و بزارن چرا نزاشته ب...  \n",
              "...                  ...                                                ...  \n",
              "1.0      52332       1.0  طعم زردچوبه میداد خیلی زیاد. حالا یا بخاطر مون...  \n",
              "         67032       1.0          واقعا افتضاح بود به تمام معنا خشک و سوخته  \n",
              "         21346       1.0  نان سنگک دو رو کنجد زده بودن ولی کنجد رو به نا...  \n",
              "         67506       1.0  کیفیت پیتزا خیلی پایین بود، طوری که قابل خوردن...  \n",
              "         55106       1.0  مرغ ابپز و بدون رنگ و طعم بود. با عکسی که گذاش...  \n",
              "\n",
              "[13896 rows x 4 columns]"
            ],
            "text/html": [
              "\n",
              "  <div id=\"df-51160890-8205-461e-8adf-4c4ae0712d4e\">\n",
              "    <div class=\"colab-df-container\">\n",
              "      <div>\n",
              "<style scoped>\n",
              "    .dataframe tbody tr th:only-of-type {\n",
              "        vertical-align: middle;\n",
              "    }\n",
              "\n",
              "    .dataframe tbody tr th {\n",
              "        vertical-align: top;\n",
              "    }\n",
              "\n",
              "    .dataframe thead th {\n",
              "        text-align: right;\n",
              "    }\n",
              "</style>\n",
              "<table border=\"1\" class=\"dataframe\">\n",
              "  <thead>\n",
              "    <tr style=\"text-align: right;\">\n",
              "      <th></th>\n",
              "      <th></th>\n",
              "      <th>comment</th>\n",
              "      <th>label</th>\n",
              "      <th>label_id</th>\n",
              "      <th>cleaned_comment</th>\n",
              "    </tr>\n",
              "    <tr>\n",
              "      <th>label_id</th>\n",
              "      <th></th>\n",
              "      <th></th>\n",
              "      <th></th>\n",
              "      <th></th>\n",
              "      <th></th>\n",
              "    </tr>\n",
              "  </thead>\n",
              "  <tbody>\n",
              "    <tr>\n",
              "      <th rowspan=\"5\" valign=\"top\">0.0</th>\n",
              "      <th>32286</th>\n",
              "      <td>مثل همیشه عالی جوجه کباب خوش طمع و برشته بود س...</td>\n",
              "      <td>HAPPY</td>\n",
              "      <td>0.0</td>\n",
              "      <td>مثل همیشه عالی جوجه کباب خوش طمع و برشته بود س...</td>\n",
              "    </tr>\n",
              "    <tr>\n",
              "      <th>22081</th>\n",
              "      <td>بسیار خوشمزه و عالی</td>\n",
              "      <td>HAPPY</td>\n",
              "      <td>0.0</td>\n",
              "      <td>بسیار خوشمزه و عالی</td>\n",
              "    </tr>\n",
              "    <tr>\n",
              "      <th>62728</th>\n",
              "      <td>ناپلئونی بد نیست اما باقلواشون زیادی عسلی و خش...</td>\n",
              "      <td>HAPPY</td>\n",
              "      <td>0.0</td>\n",
              "      <td>ناپلئونی بد نیست اما باقلواشون زیادی عسلی و خش...</td>\n",
              "    </tr>\n",
              "    <tr>\n",
              "      <th>9901</th>\n",
              "      <td>سلام خیلی خوشمزه بود بخصوص طعم کنجد رو خیلی دو...</td>\n",
              "      <td>HAPPY</td>\n",
              "      <td>0.0</td>\n",
              "      <td>سلام خیلی خوشمزه بود بخصوص طعم کنجد رو خیلی دو...</td>\n",
              "    </tr>\n",
              "    <tr>\n",
              "      <th>46283</th>\n",
              "      <td>گفته بودم سس مخصوص خودشون و بزارن چرا نزاشته ب...</td>\n",
              "      <td>HAPPY</td>\n",
              "      <td>0.0</td>\n",
              "      <td>گفته بودم سس مخصوص خودشون و بزارن چرا نزاشته ب...</td>\n",
              "    </tr>\n",
              "    <tr>\n",
              "      <th>...</th>\n",
              "      <th>...</th>\n",
              "      <td>...</td>\n",
              "      <td>...</td>\n",
              "      <td>...</td>\n",
              "      <td>...</td>\n",
              "    </tr>\n",
              "    <tr>\n",
              "      <th rowspan=\"5\" valign=\"top\">1.0</th>\n",
              "      <th>52332</th>\n",
              "      <td>طعم زردچوبه میداد خیلی زیاد. حالا یا بخاطر مون...</td>\n",
              "      <td>SAD</td>\n",
              "      <td>1.0</td>\n",
              "      <td>طعم زردچوبه میداد خیلی زیاد. حالا یا بخاطر مون...</td>\n",
              "    </tr>\n",
              "    <tr>\n",
              "      <th>67032</th>\n",
              "      <td>واقعا افتضاح بود به تمام معنا خشک و سوخته</td>\n",
              "      <td>SAD</td>\n",
              "      <td>1.0</td>\n",
              "      <td>واقعا افتضاح بود به تمام معنا خشک و سوخته</td>\n",
              "    </tr>\n",
              "    <tr>\n",
              "      <th>21346</th>\n",
              "      <td>نان سنگک دو رو کنجد زده بودن ولی کنجد رو به نا...</td>\n",
              "      <td>SAD</td>\n",
              "      <td>1.0</td>\n",
              "      <td>نان سنگک دو رو کنجد زده بودن ولی کنجد رو به نا...</td>\n",
              "    </tr>\n",
              "    <tr>\n",
              "      <th>67506</th>\n",
              "      <td>کیفیت پیتزا خیلی پایین بود، طوری که قابل خوردن...</td>\n",
              "      <td>SAD</td>\n",
              "      <td>1.0</td>\n",
              "      <td>کیفیت پیتزا خیلی پایین بود، طوری که قابل خوردن...</td>\n",
              "    </tr>\n",
              "    <tr>\n",
              "      <th>55106</th>\n",
              "      <td>مرغ ابپز و بدون رنگ و طعم بود. با عکسی که گذاش...</td>\n",
              "      <td>SAD</td>\n",
              "      <td>1.0</td>\n",
              "      <td>مرغ ابپز و بدون رنگ و طعم بود. با عکسی که گذاش...</td>\n",
              "    </tr>\n",
              "  </tbody>\n",
              "</table>\n",
              "<p>13896 rows × 4 columns</p>\n",
              "</div>\n",
              "      <button class=\"colab-df-convert\" onclick=\"convertToInteractive('df-51160890-8205-461e-8adf-4c4ae0712d4e')\"\n",
              "              title=\"Convert this dataframe to an interactive table.\"\n",
              "              style=\"display:none;\">\n",
              "        \n",
              "  <svg xmlns=\"http://www.w3.org/2000/svg\" height=\"24px\"viewBox=\"0 0 24 24\"\n",
              "       width=\"24px\">\n",
              "    <path d=\"M0 0h24v24H0V0z\" fill=\"none\"/>\n",
              "    <path d=\"M18.56 5.44l.94 2.06.94-2.06 2.06-.94-2.06-.94-.94-2.06-.94 2.06-2.06.94zm-11 1L8.5 8.5l.94-2.06 2.06-.94-2.06-.94L8.5 2.5l-.94 2.06-2.06.94zm10 10l.94 2.06.94-2.06 2.06-.94-2.06-.94-.94-2.06-.94 2.06-2.06.94z\"/><path d=\"M17.41 7.96l-1.37-1.37c-.4-.4-.92-.59-1.43-.59-.52 0-1.04.2-1.43.59L10.3 9.45l-7.72 7.72c-.78.78-.78 2.05 0 2.83L4 21.41c.39.39.9.59 1.41.59.51 0 1.02-.2 1.41-.59l7.78-7.78 2.81-2.81c.8-.78.8-2.07 0-2.86zM5.41 20L4 18.59l7.72-7.72 1.47 1.35L5.41 20z\"/>\n",
              "  </svg>\n",
              "      </button>\n",
              "      \n",
              "  <style>\n",
              "    .colab-df-container {\n",
              "      display:flex;\n",
              "      flex-wrap:wrap;\n",
              "      gap: 12px;\n",
              "    }\n",
              "\n",
              "    .colab-df-convert {\n",
              "      background-color: #E8F0FE;\n",
              "      border: none;\n",
              "      border-radius: 50%;\n",
              "      cursor: pointer;\n",
              "      display: none;\n",
              "      fill: #1967D2;\n",
              "      height: 32px;\n",
              "      padding: 0 0 0 0;\n",
              "      width: 32px;\n",
              "    }\n",
              "\n",
              "    .colab-df-convert:hover {\n",
              "      background-color: #E2EBFA;\n",
              "      box-shadow: 0px 1px 2px rgba(60, 64, 67, 0.3), 0px 1px 3px 1px rgba(60, 64, 67, 0.15);\n",
              "      fill: #174EA6;\n",
              "    }\n",
              "\n",
              "    [theme=dark] .colab-df-convert {\n",
              "      background-color: #3B4455;\n",
              "      fill: #D2E3FC;\n",
              "    }\n",
              "\n",
              "    [theme=dark] .colab-df-convert:hover {\n",
              "      background-color: #434B5C;\n",
              "      box-shadow: 0px 1px 3px 1px rgba(0, 0, 0, 0.15);\n",
              "      filter: drop-shadow(0px 1px 2px rgba(0, 0, 0, 0.3));\n",
              "      fill: #FFFFFF;\n",
              "    }\n",
              "  </style>\n",
              "\n",
              "      <script>\n",
              "        const buttonEl =\n",
              "          document.querySelector('#df-51160890-8205-461e-8adf-4c4ae0712d4e button.colab-df-convert');\n",
              "        buttonEl.style.display =\n",
              "          google.colab.kernel.accessAllowed ? 'block' : 'none';\n",
              "\n",
              "        async function convertToInteractive(key) {\n",
              "          const element = document.querySelector('#df-51160890-8205-461e-8adf-4c4ae0712d4e');\n",
              "          const dataTable =\n",
              "            await google.colab.kernel.invokeFunction('convertToInteractive',\n",
              "                                                     [key], {});\n",
              "          if (!dataTable) return;\n",
              "\n",
              "          const docLinkHtml = 'Like what you see? Visit the ' +\n",
              "            '<a target=\"_blank\" href=https://colab.research.google.com/notebooks/data_table.ipynb>data table notebook</a>'\n",
              "            + ' to learn more about interactive tables.';\n",
              "          element.innerHTML = '';\n",
              "          dataTable['output_type'] = 'display_data';\n",
              "          await google.colab.output.renderOutput(dataTable, element);\n",
              "          const docLink = document.createElement('div');\n",
              "          docLink.innerHTML = docLinkHtml;\n",
              "          element.appendChild(docLink);\n",
              "        }\n",
              "      </script>\n",
              "    </div>\n",
              "  </div>\n",
              "  "
            ]
          },
          "metadata": {},
          "execution_count": 43
        }
      ]
    },
    {
      "cell_type": "code",
      "source": [
        "df_cleaned = df_cleaned.droplevel('label_id')\n",
        "df_cleaned = df_cleaned.reset_index().drop(['index'], axis=1)\n",
        "df_cleaned"
      ],
      "metadata": {
        "colab": {
          "base_uri": "https://localhost:8080/",
          "height": 423
        },
        "id": "Hq8cELKe4ea4",
        "outputId": "b8874bc9-4341-478d-a76d-9a969aaa91c1"
      },
      "execution_count": 44,
      "outputs": [
        {
          "output_type": "execute_result",
          "data": {
            "text/plain": [
              "                                                 comment  label  label_id  \\\n",
              "0      مثل همیشه عالی جوجه کباب خوش طمع و برشته بود س...  HAPPY       0.0   \n",
              "1                                    بسیار خوشمزه و عالی  HAPPY       0.0   \n",
              "2      ناپلئونی بد نیست اما باقلواشون زیادی عسلی و خش...  HAPPY       0.0   \n",
              "3      سلام خیلی خوشمزه بود بخصوص طعم کنجد رو خیلی دو...  HAPPY       0.0   \n",
              "4      گفته بودم سس مخصوص خودشون و بزارن چرا نزاشته ب...  HAPPY       0.0   \n",
              "...                                                  ...    ...       ...   \n",
              "13891  طعم زردچوبه میداد خیلی زیاد. حالا یا بخاطر مون...    SAD       1.0   \n",
              "13892          واقعا افتضاح بود به تمام معنا خشک و سوخته    SAD       1.0   \n",
              "13893  نان سنگک دو رو کنجد زده بودن ولی کنجد رو به نا...    SAD       1.0   \n",
              "13894  کیفیت پیتزا خیلی پایین بود، طوری که قابل خوردن...    SAD       1.0   \n",
              "13895  مرغ ابپز و بدون رنگ و طعم بود. با عکسی که گذاش...    SAD       1.0   \n",
              "\n",
              "                                         cleaned_comment  \n",
              "0      مثل همیشه عالی جوجه کباب خوش طمع و برشته بود س...  \n",
              "1                                    بسیار خوشمزه و عالی  \n",
              "2      ناپلئونی بد نیست اما باقلواشون زیادی عسلی و خش...  \n",
              "3      سلام خیلی خوشمزه بود بخصوص طعم کنجد رو خیلی دو...  \n",
              "4      گفته بودم سس مخصوص خودشون و بزارن چرا نزاشته ب...  \n",
              "...                                                  ...  \n",
              "13891  طعم زردچوبه میداد خیلی زیاد. حالا یا بخاطر مون...  \n",
              "13892          واقعا افتضاح بود به تمام معنا خشک و سوخته  \n",
              "13893  نان سنگک دو رو کنجد زده بودن ولی کنجد رو به نا...  \n",
              "13894  کیفیت پیتزا خیلی پایین بود، طوری که قابل خوردن...  \n",
              "13895  مرغ ابپز و بدون رنگ و طعم بود. با عکسی که گذاش...  \n",
              "\n",
              "[13896 rows x 4 columns]"
            ],
            "text/html": [
              "\n",
              "  <div id=\"df-ad385f88-cae1-47bf-aa20-a6eec68bf8d7\">\n",
              "    <div class=\"colab-df-container\">\n",
              "      <div>\n",
              "<style scoped>\n",
              "    .dataframe tbody tr th:only-of-type {\n",
              "        vertical-align: middle;\n",
              "    }\n",
              "\n",
              "    .dataframe tbody tr th {\n",
              "        vertical-align: top;\n",
              "    }\n",
              "\n",
              "    .dataframe thead th {\n",
              "        text-align: right;\n",
              "    }\n",
              "</style>\n",
              "<table border=\"1\" class=\"dataframe\">\n",
              "  <thead>\n",
              "    <tr style=\"text-align: right;\">\n",
              "      <th></th>\n",
              "      <th>comment</th>\n",
              "      <th>label</th>\n",
              "      <th>label_id</th>\n",
              "      <th>cleaned_comment</th>\n",
              "    </tr>\n",
              "  </thead>\n",
              "  <tbody>\n",
              "    <tr>\n",
              "      <th>0</th>\n",
              "      <td>مثل همیشه عالی جوجه کباب خوش طمع و برشته بود س...</td>\n",
              "      <td>HAPPY</td>\n",
              "      <td>0.0</td>\n",
              "      <td>مثل همیشه عالی جوجه کباب خوش طمع و برشته بود س...</td>\n",
              "    </tr>\n",
              "    <tr>\n",
              "      <th>1</th>\n",
              "      <td>بسیار خوشمزه و عالی</td>\n",
              "      <td>HAPPY</td>\n",
              "      <td>0.0</td>\n",
              "      <td>بسیار خوشمزه و عالی</td>\n",
              "    </tr>\n",
              "    <tr>\n",
              "      <th>2</th>\n",
              "      <td>ناپلئونی بد نیست اما باقلواشون زیادی عسلی و خش...</td>\n",
              "      <td>HAPPY</td>\n",
              "      <td>0.0</td>\n",
              "      <td>ناپلئونی بد نیست اما باقلواشون زیادی عسلی و خش...</td>\n",
              "    </tr>\n",
              "    <tr>\n",
              "      <th>3</th>\n",
              "      <td>سلام خیلی خوشمزه بود بخصوص طعم کنجد رو خیلی دو...</td>\n",
              "      <td>HAPPY</td>\n",
              "      <td>0.0</td>\n",
              "      <td>سلام خیلی خوشمزه بود بخصوص طعم کنجد رو خیلی دو...</td>\n",
              "    </tr>\n",
              "    <tr>\n",
              "      <th>4</th>\n",
              "      <td>گفته بودم سس مخصوص خودشون و بزارن چرا نزاشته ب...</td>\n",
              "      <td>HAPPY</td>\n",
              "      <td>0.0</td>\n",
              "      <td>گفته بودم سس مخصوص خودشون و بزارن چرا نزاشته ب...</td>\n",
              "    </tr>\n",
              "    <tr>\n",
              "      <th>...</th>\n",
              "      <td>...</td>\n",
              "      <td>...</td>\n",
              "      <td>...</td>\n",
              "      <td>...</td>\n",
              "    </tr>\n",
              "    <tr>\n",
              "      <th>13891</th>\n",
              "      <td>طعم زردچوبه میداد خیلی زیاد. حالا یا بخاطر مون...</td>\n",
              "      <td>SAD</td>\n",
              "      <td>1.0</td>\n",
              "      <td>طعم زردچوبه میداد خیلی زیاد. حالا یا بخاطر مون...</td>\n",
              "    </tr>\n",
              "    <tr>\n",
              "      <th>13892</th>\n",
              "      <td>واقعا افتضاح بود به تمام معنا خشک و سوخته</td>\n",
              "      <td>SAD</td>\n",
              "      <td>1.0</td>\n",
              "      <td>واقعا افتضاح بود به تمام معنا خشک و سوخته</td>\n",
              "    </tr>\n",
              "    <tr>\n",
              "      <th>13893</th>\n",
              "      <td>نان سنگک دو رو کنجد زده بودن ولی کنجد رو به نا...</td>\n",
              "      <td>SAD</td>\n",
              "      <td>1.0</td>\n",
              "      <td>نان سنگک دو رو کنجد زده بودن ولی کنجد رو به نا...</td>\n",
              "    </tr>\n",
              "    <tr>\n",
              "      <th>13894</th>\n",
              "      <td>کیفیت پیتزا خیلی پایین بود، طوری که قابل خوردن...</td>\n",
              "      <td>SAD</td>\n",
              "      <td>1.0</td>\n",
              "      <td>کیفیت پیتزا خیلی پایین بود، طوری که قابل خوردن...</td>\n",
              "    </tr>\n",
              "    <tr>\n",
              "      <th>13895</th>\n",
              "      <td>مرغ ابپز و بدون رنگ و طعم بود. با عکسی که گذاش...</td>\n",
              "      <td>SAD</td>\n",
              "      <td>1.0</td>\n",
              "      <td>مرغ ابپز و بدون رنگ و طعم بود. با عکسی که گذاش...</td>\n",
              "    </tr>\n",
              "  </tbody>\n",
              "</table>\n",
              "<p>13896 rows × 4 columns</p>\n",
              "</div>\n",
              "      <button class=\"colab-df-convert\" onclick=\"convertToInteractive('df-ad385f88-cae1-47bf-aa20-a6eec68bf8d7')\"\n",
              "              title=\"Convert this dataframe to an interactive table.\"\n",
              "              style=\"display:none;\">\n",
              "        \n",
              "  <svg xmlns=\"http://www.w3.org/2000/svg\" height=\"24px\"viewBox=\"0 0 24 24\"\n",
              "       width=\"24px\">\n",
              "    <path d=\"M0 0h24v24H0V0z\" fill=\"none\"/>\n",
              "    <path d=\"M18.56 5.44l.94 2.06.94-2.06 2.06-.94-2.06-.94-.94-2.06-.94 2.06-2.06.94zm-11 1L8.5 8.5l.94-2.06 2.06-.94-2.06-.94L8.5 2.5l-.94 2.06-2.06.94zm10 10l.94 2.06.94-2.06 2.06-.94-2.06-.94-.94-2.06-.94 2.06-2.06.94z\"/><path d=\"M17.41 7.96l-1.37-1.37c-.4-.4-.92-.59-1.43-.59-.52 0-1.04.2-1.43.59L10.3 9.45l-7.72 7.72c-.78.78-.78 2.05 0 2.83L4 21.41c.39.39.9.59 1.41.59.51 0 1.02-.2 1.41-.59l7.78-7.78 2.81-2.81c.8-.78.8-2.07 0-2.86zM5.41 20L4 18.59l7.72-7.72 1.47 1.35L5.41 20z\"/>\n",
              "  </svg>\n",
              "      </button>\n",
              "      \n",
              "  <style>\n",
              "    .colab-df-container {\n",
              "      display:flex;\n",
              "      flex-wrap:wrap;\n",
              "      gap: 12px;\n",
              "    }\n",
              "\n",
              "    .colab-df-convert {\n",
              "      background-color: #E8F0FE;\n",
              "      border: none;\n",
              "      border-radius: 50%;\n",
              "      cursor: pointer;\n",
              "      display: none;\n",
              "      fill: #1967D2;\n",
              "      height: 32px;\n",
              "      padding: 0 0 0 0;\n",
              "      width: 32px;\n",
              "    }\n",
              "\n",
              "    .colab-df-convert:hover {\n",
              "      background-color: #E2EBFA;\n",
              "      box-shadow: 0px 1px 2px rgba(60, 64, 67, 0.3), 0px 1px 3px 1px rgba(60, 64, 67, 0.15);\n",
              "      fill: #174EA6;\n",
              "    }\n",
              "\n",
              "    [theme=dark] .colab-df-convert {\n",
              "      background-color: #3B4455;\n",
              "      fill: #D2E3FC;\n",
              "    }\n",
              "\n",
              "    [theme=dark] .colab-df-convert:hover {\n",
              "      background-color: #434B5C;\n",
              "      box-shadow: 0px 1px 3px 1px rgba(0, 0, 0, 0.15);\n",
              "      filter: drop-shadow(0px 1px 2px rgba(0, 0, 0, 0.3));\n",
              "      fill: #FFFFFF;\n",
              "    }\n",
              "  </style>\n",
              "\n",
              "      <script>\n",
              "        const buttonEl =\n",
              "          document.querySelector('#df-ad385f88-cae1-47bf-aa20-a6eec68bf8d7 button.colab-df-convert');\n",
              "        buttonEl.style.display =\n",
              "          google.colab.kernel.accessAllowed ? 'block' : 'none';\n",
              "\n",
              "        async function convertToInteractive(key) {\n",
              "          const element = document.querySelector('#df-ad385f88-cae1-47bf-aa20-a6eec68bf8d7');\n",
              "          const dataTable =\n",
              "            await google.colab.kernel.invokeFunction('convertToInteractive',\n",
              "                                                     [key], {});\n",
              "          if (!dataTable) return;\n",
              "\n",
              "          const docLinkHtml = 'Like what you see? Visit the ' +\n",
              "            '<a target=\"_blank\" href=https://colab.research.google.com/notebooks/data_table.ipynb>data table notebook</a>'\n",
              "            + ' to learn more about interactive tables.';\n",
              "          element.innerHTML = '';\n",
              "          dataTable['output_type'] = 'display_data';\n",
              "          await google.colab.output.renderOutput(dataTable, element);\n",
              "          const docLink = document.createElement('div');\n",
              "          docLink.innerHTML = docLinkHtml;\n",
              "          element.appendChild(docLink);\n",
              "        }\n",
              "      </script>\n",
              "    </div>\n",
              "  </div>\n",
              "  "
            ]
          },
          "metadata": {},
          "execution_count": 44
        }
      ]
    },
    {
      "cell_type": "markdown",
      "source": [
        "## step 2 : Tf-Idf implementation"
      ],
      "metadata": {
        "id": "yHGtfNA-T24B"
      }
    },
    {
      "cell_type": "markdown",
      "source": [
        "Here we create train and test data and as it is said in hw it wiill be 90 percent train data and 10 percenttest data."
      ],
      "metadata": {
        "id": "IfSdLpgBXjju"
      }
    },
    {
      "cell_type": "code",
      "source": [
        "# Split the data into training and test sets\n",
        "X_train, X_test, y_train, y_test = train_test_split(df_cleaned['cleaned_comment'], df_cleaned['label_id'], test_size=0.1, stratify=df_cleaned['label_id'], random_state=42,shuffle=True)"
      ],
      "metadata": {
        "id": "yPs-Z-hzZeJ7"
      },
      "execution_count": 55,
      "outputs": []
    },
    {
      "cell_type": "code",
      "source": [
        "word_dictionary = list()\n",
        "words = X_train.str.split(' ')\n",
        "for row in X_train:\n",
        "  row = row.split()\n",
        "  for word in row:\n",
        "    if word not in word_dictionary:\n",
        "      word_dictionary.append(word)\n",
        "\n",
        "print(\"this dataset has a vocabulary with size of : \" ,len(word_dictionary))"
      ],
      "metadata": {
        "colab": {
          "base_uri": "https://localhost:8080/"
        },
        "id": "nDKOo53N7au6",
        "outputId": "54fa4917-631a-4b97-ce06-0be33a538d42"
      },
      "execution_count": 56,
      "outputs": [
        {
          "output_type": "stream",
          "name": "stdout",
          "text": [
            "this dataset has a vocabulary with size of :  16995\n"
          ]
        }
      ]
    },
    {
      "cell_type": "markdown",
      "source": [
        "Here we'll create the TfIdf classifier that calculates tf and idf and then using cal_tf_idf calculates tf-idf all all of the dataset."
      ],
      "metadata": {
        "id": "mDrEN8MF8IQP"
      }
    },
    {
      "cell_type": "code",
      "source": [
        "class TfIdfClassifier:\n",
        "    def set_vocab(self, vocab):\n",
        "        self.vocab = vocab\n",
        "        self.model = MultinomialNB()\n",
        "        self.idf = {}\n",
        "\n",
        "    def fit(self, train_input, train_output):\n",
        "        self.calculate_idf(train_input)\n",
        "        self.model.fit(self.data_vector(train_input), train_output)\n",
        "\n",
        "    def predict(self, test_input):\n",
        "        return self.model.predict(self.data_vector(test_input))\n",
        "\n",
        "    def data_vector(self, data):\n",
        "        result = []\n",
        "        for sentence in data:\n",
        "            result.append(self.calculate_tf_idf(sentence))\n",
        "        return np.array(result)\n",
        "\n",
        "    def calculate_tf_idf(self, sentence):\n",
        "        vector = []\n",
        "        for word in self.vocab:\n",
        "            if word in sentence:\n",
        "                vector.append(math.log(self.idf[word] + 1))\n",
        "            else:\n",
        "                vector.append(0)\n",
        "        return vector\n",
        "\n",
        "    def calculate_idf(self, data):\n",
        "        word_in_doc_list = {}\n",
        "        for sentence in data:\n",
        "            sentence = sentence.split()\n",
        "            for word in sentence:\n",
        "                if word not in word_in_doc_list:\n",
        "                    word_in_doc_list[word] = []\n",
        "                if sentence not in word_in_doc_list[word]:\n",
        "                    word_in_doc_list[word].append(sentence)\n",
        "        for word in word_in_doc_list:\n",
        "            total_doc_with_word = len(word_in_doc_list[word])\n",
        "            self.idf[word] = len(data) / total_doc_with_word\n"
      ],
      "metadata": {
        "id": "sz2Toz7sAQf7"
      },
      "execution_count": 57,
      "outputs": []
    },
    {
      "cell_type": "code",
      "source": [
        "import math\n",
        "tfidf_clsfr = TfIdfClassifier()\n",
        "tfidf_clsfr.set_vocab(word_dictionary)\n",
        "tfidf_clsfr.fit(X_train, y_train)"
      ],
      "metadata": {
        "id": "iulSeKitQbVV"
      },
      "execution_count": 59,
      "outputs": []
    },
    {
      "cell_type": "code",
      "source": [
        "pred = tfidf_clsfr.predict(X_test)\n"
      ],
      "metadata": {
        "id": "n8aKKKZkFH7y"
      },
      "execution_count": 60,
      "outputs": []
    },
    {
      "cell_type": "code",
      "source": [
        "accuracy = accuracy_score(y_test, pred)\n",
        "recall = recall_score(y_test, pred)\n",
        "precision = precision_score(y_test, pred)\n",
        "f1 = f1_score(pred, y_test, average=\"weighted\")\n"
      ],
      "metadata": {
        "id": "wbxBo5Z4FY9O"
      },
      "execution_count": 61,
      "outputs": []
    },
    {
      "cell_type": "code",
      "source": [
        "print(\"tf-idf Accuracy:\", accuracy)\n",
        "print(\"tf-idf Precision:\", precision)\n",
        "print(\"tf-idf Recall:\", recall)\n",
        "print(\"tf-idf F1 Score:\", f1)"
      ],
      "metadata": {
        "id": "SN5-xj5-FVC3",
        "colab": {
          "base_uri": "https://localhost:8080/"
        },
        "outputId": "853eeb6e-e107-4976-8749-f81e6d1fd82c"
      },
      "execution_count": null,
      "outputs": [
        {
          "output_type": "stream",
          "name": "stdout",
          "text": [
            "tf-idf Accuracy: 0.7942446043165468\n",
            "tf-idf Precision: 0.7905308464849354\n",
            "tf-idf Recall: 0.7973950795947902\n",
            "tf-idf F1 Score: 0.7942433263962219\n"
          ]
        }
      ]
    },
    {
      "cell_type": "markdown",
      "source": [
        "## PPMI"
      ],
      "metadata": {
        "id": "JS42qYD_yOPH"
      }
    },
    {
      "cell_type": "code",
      "source": [
        "df_cleaned.loc[1501,['label_id','cleaned_comment']].tolist()[1]"
      ],
      "metadata": {
        "colab": {
          "base_uri": "https://localhost:8080/",
          "height": 36
        },
        "id": "T0JsgHRzH4by",
        "outputId": "e11821fb-448e-41e8-e701-662a96d4d80f"
      },
      "execution_count": 45,
      "outputs": [
        {
          "output_type": "execute_result",
          "data": {
            "text/plain": [
              "'خیلی خوب بود فقط کمی شور بود'"
            ],
            "application/vnd.google.colaboratory.intrinsic+json": {
              "type": "string"
            }
          },
          "metadata": {},
          "execution_count": 45
        }
      ]
    },
    {
      "cell_type": "code",
      "source": [
        "from  hazm import *\n",
        "def tokenizer(term):\n",
        "  cleaned = re.sub('(([^ا-ی\\.!\\?1-9])*[A-Za-z])+','',term)\n",
        "  cleaned = re.sub('\\n','',cleaned)\n",
        "  normalizer = Normalizer()\n",
        "  cleaned = normalizer.normalize(cleaned)\n",
        "  return word_tokenize(cleaned)\n",
        "  "
      ],
      "metadata": {
        "id": "uxPE8XyS8NKA"
      },
      "execution_count": 46,
      "outputs": []
    },
    {
      "cell_type": "code",
      "source": [
        "vocabulary = set()\n",
        "word_count = {}\n",
        "tokenized_labeled_data = list()\n",
        "all_words_count = 0\n",
        "\n",
        "for i in range(len(df_cleaned.index)):\n",
        "  tokens = tokenizer(df_cleaned.loc[i,['label_id','cleaned_comment']].tolist()[1])\n",
        "  tokenized_labeled_data.append([tokens, df_cleaned.loc[i,['label_id','cleaned_comment']].tolist()[0]])\n",
        "  all_words_count = all_words_count + len(tokens)\n",
        "  vocabulary = vocabulary.union(set(tokens))\n",
        "  for t in tokens:\n",
        "    if t in word_count.keys():\n",
        "      word_count[t] = word_count[t] + 1\n",
        "    else:\n",
        "      word_count[t] = 1"
      ],
      "metadata": {
        "id": "qsic--zY8NMu"
      },
      "execution_count": 47,
      "outputs": []
    },
    {
      "cell_type": "code",
      "source": [
        "df_co = pd.DataFrame(data=np.zeros((len(vocabulary), len(vocabulary)), \n",
        "                  dtype=np.int16),\n",
        "                  index=list(vocabulary),\n",
        "                  columns=list(vocabulary))\n",
        "for data in tokenized_labeled_data:\n",
        "  for i in range(len(data[0])):\n",
        "      next_token = data[0][i+1 : i+3] # take window size = 2\n",
        "      for t in next_token:\n",
        "        df_co.at[data[0][i], t] += 1\n",
        "        df_co.at[t, data[0][i]] += 1"
      ],
      "metadata": {
        "id": "rjlZvZoXySj5"
      },
      "execution_count": 48,
      "outputs": []
    },
    {
      "cell_type": "markdown",
      "source": [
        "\\begin{align*}\n",
        "P(i,j) = \\frac{C(i,j)}{\\sum_{k,l} C(k,l)} = \\frac{C_{ij}}{Z} \\\\\\\\\n",
        "P(i) = \\frac{\\sum_{k} C(i,k)}{\\sum_{k,l} C(k,l)} = \\frac{Z_i}{Z} \\\\\\\\\n",
        "\\end{align*}\n",
        "\n",
        "Then compute PMI:\n",
        "\n",
        "\\begin{align*}\n",
        "\\text{PMI}(i,j) = \\log \\frac{P(i,j)}{P(i)P(j)} = \\log \\frac{C_{ij} \\cdot Z}{Z_i \\cdot Z_j} \\\\\\\\\n",
        "\\end{align*}\n",
        "\n",
        "Finally, truncate to ignore negatively-correlated pairs:\n",
        "\n",
        "\\begin{align*}\n",
        "\\text{PPMI}(i,j) = \\max(0, \\text{PMI}(i,j))\n",
        "\\end{align*}"
      ],
      "metadata": {
        "id": "aXmzHxY-c9kx"
      }
    },
    {
      "cell_type": "code",
      "source": [
        "expct = np.outer((df_co.sum(axis=1)), (df_co.sum(axis=0))) / (df_co.sum(axis=0).sum())\n",
        "PMI = df_co / expct\n",
        "\n",
        "with np.errstate(divide='ignore'):\n",
        "    PMI = np.log(PMI)\n",
        "PMI[np.isinf(PMI)] = 0.0\n",
        "\n",
        "PMI[PMI < 0] = 0.0\n",
        "PPMI = PMI"
      ],
      "metadata": {
        "id": "P1dRVNBwyeSw"
      },
      "execution_count": 49,
      "outputs": []
    },
    {
      "cell_type": "code",
      "source": [
        "new_list = [d for d in tokenized_labeled_data if d[0]]  # remove items where d[0] is empty\n",
        "PPMI_data = []\n",
        "for d in new_list:\n",
        "  vorctors_list = []\n",
        "  for w in d[0]:\n",
        "    vorctors_list.append(PPMI[w].to_numpy()) \n",
        "  PPMI_data.append(np.mean(vorctors_list, 0))\n",
        "\n"
      ],
      "metadata": {
        "id": "RwcEMjJzykEK"
      },
      "execution_count": 50,
      "outputs": []
    },
    {
      "cell_type": "code",
      "source": [
        "X = PPMI_data\n",
        "Y = np.array(new_list)[:,1].astype('int')"
      ],
      "metadata": {
        "id": "A0av7aiuBO1e"
      },
      "execution_count": null,
      "outputs": []
    },
    {
      "cell_type": "code",
      "source": [
        "from sklearn.model_selection import train_test_split\n",
        "X_train, X_test, y_train, y_test = train_test_split(X, Y, test_size=0.1, random_state=354)\n"
      ],
      "metadata": {
        "id": "Aq9tpVVwBPHs"
      },
      "execution_count": 52,
      "outputs": []
    },
    {
      "cell_type": "code",
      "source": [
        "model = MultinomialNB()\n",
        "model.fit(X_train, y_train)"
      ],
      "metadata": {
        "colab": {
          "base_uri": "https://localhost:8080/",
          "height": 74
        },
        "id": "xh2Xw9zgBPKi",
        "outputId": "81fbf477-bc05-415f-85a8-7fe310ab6270"
      },
      "execution_count": 53,
      "outputs": [
        {
          "output_type": "execute_result",
          "data": {
            "text/plain": [
              "MultinomialNB()"
            ],
            "text/html": [
              "<style>#sk-container-id-2 {color: black;background-color: white;}#sk-container-id-2 pre{padding: 0;}#sk-container-id-2 div.sk-toggleable {background-color: white;}#sk-container-id-2 label.sk-toggleable__label {cursor: pointer;display: block;width: 100%;margin-bottom: 0;padding: 0.3em;box-sizing: border-box;text-align: center;}#sk-container-id-2 label.sk-toggleable__label-arrow:before {content: \"▸\";float: left;margin-right: 0.25em;color: #696969;}#sk-container-id-2 label.sk-toggleable__label-arrow:hover:before {color: black;}#sk-container-id-2 div.sk-estimator:hover label.sk-toggleable__label-arrow:before {color: black;}#sk-container-id-2 div.sk-toggleable__content {max-height: 0;max-width: 0;overflow: hidden;text-align: left;background-color: #f0f8ff;}#sk-container-id-2 div.sk-toggleable__content pre {margin: 0.2em;color: black;border-radius: 0.25em;background-color: #f0f8ff;}#sk-container-id-2 input.sk-toggleable__control:checked~div.sk-toggleable__content {max-height: 200px;max-width: 100%;overflow: auto;}#sk-container-id-2 input.sk-toggleable__control:checked~label.sk-toggleable__label-arrow:before {content: \"▾\";}#sk-container-id-2 div.sk-estimator input.sk-toggleable__control:checked~label.sk-toggleable__label {background-color: #d4ebff;}#sk-container-id-2 div.sk-label input.sk-toggleable__control:checked~label.sk-toggleable__label {background-color: #d4ebff;}#sk-container-id-2 input.sk-hidden--visually {border: 0;clip: rect(1px 1px 1px 1px);clip: rect(1px, 1px, 1px, 1px);height: 1px;margin: -1px;overflow: hidden;padding: 0;position: absolute;width: 1px;}#sk-container-id-2 div.sk-estimator {font-family: monospace;background-color: #f0f8ff;border: 1px dotted black;border-radius: 0.25em;box-sizing: border-box;margin-bottom: 0.5em;}#sk-container-id-2 div.sk-estimator:hover {background-color: #d4ebff;}#sk-container-id-2 div.sk-parallel-item::after {content: \"\";width: 100%;border-bottom: 1px solid gray;flex-grow: 1;}#sk-container-id-2 div.sk-label:hover label.sk-toggleable__label {background-color: #d4ebff;}#sk-container-id-2 div.sk-serial::before {content: \"\";position: absolute;border-left: 1px solid gray;box-sizing: border-box;top: 0;bottom: 0;left: 50%;z-index: 0;}#sk-container-id-2 div.sk-serial {display: flex;flex-direction: column;align-items: center;background-color: white;padding-right: 0.2em;padding-left: 0.2em;position: relative;}#sk-container-id-2 div.sk-item {position: relative;z-index: 1;}#sk-container-id-2 div.sk-parallel {display: flex;align-items: stretch;justify-content: center;background-color: white;position: relative;}#sk-container-id-2 div.sk-item::before, #sk-container-id-2 div.sk-parallel-item::before {content: \"\";position: absolute;border-left: 1px solid gray;box-sizing: border-box;top: 0;bottom: 0;left: 50%;z-index: -1;}#sk-container-id-2 div.sk-parallel-item {display: flex;flex-direction: column;z-index: 1;position: relative;background-color: white;}#sk-container-id-2 div.sk-parallel-item:first-child::after {align-self: flex-end;width: 50%;}#sk-container-id-2 div.sk-parallel-item:last-child::after {align-self: flex-start;width: 50%;}#sk-container-id-2 div.sk-parallel-item:only-child::after {width: 0;}#sk-container-id-2 div.sk-dashed-wrapped {border: 1px dashed gray;margin: 0 0.4em 0.5em 0.4em;box-sizing: border-box;padding-bottom: 0.4em;background-color: white;}#sk-container-id-2 div.sk-label label {font-family: monospace;font-weight: bold;display: inline-block;line-height: 1.2em;}#sk-container-id-2 div.sk-label-container {text-align: center;}#sk-container-id-2 div.sk-container {/* jupyter's `normalize.less` sets `[hidden] { display: none; }` but bootstrap.min.css set `[hidden] { display: none !important; }` so we also need the `!important` here to be able to override the default hidden behavior on the sphinx rendered scikit-learn.org. See: https://github.com/scikit-learn/scikit-learn/issues/21755 */display: inline-block !important;position: relative;}#sk-container-id-2 div.sk-text-repr-fallback {display: none;}</style><div id=\"sk-container-id-2\" class=\"sk-top-container\"><div class=\"sk-text-repr-fallback\"><pre>MultinomialNB()</pre><b>In a Jupyter environment, please rerun this cell to show the HTML representation or trust the notebook. <br />On GitHub, the HTML representation is unable to render, please try loading this page with nbviewer.org.</b></div><div class=\"sk-container\" hidden><div class=\"sk-item\"><div class=\"sk-estimator sk-toggleable\"><input class=\"sk-toggleable__control sk-hidden--visually\" id=\"sk-estimator-id-2\" type=\"checkbox\" checked><label for=\"sk-estimator-id-2\" class=\"sk-toggleable__label sk-toggleable__label-arrow\">MultinomialNB</label><div class=\"sk-toggleable__content\"><pre>MultinomialNB()</pre></div></div></div></div></div>"
            ]
          },
          "metadata": {},
          "execution_count": 53
        }
      ]
    },
    {
      "cell_type": "code",
      "source": [
        "y_pred = model.predict(X_test)\n",
        "accuray = accuracy_score(y_pred, y_test)\n",
        "precision = precision_score(y_test, y_pred)\n",
        "recall = recall_score(y_pred, y_test)\n",
        "f1 = f1_score(y_pred, y_test, average=\"weighted\")\n",
        "print(\"ppmi Accuracy:\", accuray)\n",
        "print(\"ppmi Precision:\", precision)\n",
        "print(\"ppmi Recall:\", recall)\n",
        "print(\"ppmi F1 Score:\", f1)"
      ],
      "metadata": {
        "id": "PY4RFGjFNHua",
        "colab": {
          "base_uri": "https://localhost:8080/"
        },
        "outputId": "a605f23d-2c8c-4e25-a98e-bd31e68f1ff4"
      },
      "execution_count": 54,
      "outputs": [
        {
          "output_type": "stream",
          "name": "stdout",
          "text": [
            "ppmi Accuracy: 0.7352092352092352\n",
            "ppmi Precision: 0.7193211488250653\n",
            "ppmi Recall: 0.7193211488250653\n",
            "ppmi F1 Score: 0.73593259649943\n"
          ]
        }
      ]
    }
  ]
}