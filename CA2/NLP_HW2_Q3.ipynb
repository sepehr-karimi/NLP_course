{
  "nbformat": 4,
  "nbformat_minor": 0,
  "metadata": {
    "colab": {
      "provenance": []
    },
    "kernelspec": {
      "name": "python3",
      "display_name": "Python 3"
    },
    "language_info": {
      "name": "python"
    }
  },
  "cells": [
    {
      "cell_type": "markdown",
      "source": [
        "# **Part A**"
      ],
      "metadata": {
        "id": "Hd9DQFcP6Whl"
      }
    },
    {
      "cell_type": "markdown",
      "source": [
        "## Step 0 : Loading essential libraries"
      ],
      "metadata": {
        "id": "CZ3FV37lzblv"
      }
    },
    {
      "cell_type": "code",
      "source": [
        "import numpy as np # linear algebra\n",
        "import pandas as pd # data processing, CSV file I/O (e.g. pd.read_csv)\n",
        "import os\n",
        "import seaborn as sns\n",
        "import re\n",
        "### Importing nltk library for stopwords and punctuations\n",
        "import nltk \n",
        "nltk.download('stopwords')\n",
        "nltk.download('punkt')\n",
        "from nltk.corpus import stopwords\n",
        "from nltk.tokenize import word_tokenize\n",
        "\n",
        "### importing sklearn libraries for LogisticRegression and confusion matrix\n",
        "from sklearn.linear_model import LogisticRegression\n",
        "from sklearn.metrics import confusion_matrix\n",
        "from sklearn.model_selection import train_test_split\n",
        "from sklearn.metrics import classification_report\n",
        "\n",
        "import matplotlib.pyplot as plt\n",
        "\n"
      ],
      "metadata": {
        "id": "Fl5it8tHRIUF",
        "colab": {
          "base_uri": "https://localhost:8080/"
        },
        "outputId": "26e869e4-42df-4e96-c55c-faa92bcf7fe4"
      },
      "execution_count": null,
      "outputs": [
        {
          "output_type": "stream",
          "name": "stderr",
          "text": [
            "[nltk_data] Downloading package stopwords to /root/nltk_data...\n",
            "[nltk_data]   Unzipping corpora/stopwords.zip.\n",
            "[nltk_data] Downloading package punkt to /root/nltk_data...\n",
            "[nltk_data]   Unzipping tokenizers/punkt.zip.\n"
          ]
        }
      ]
    },
    {
      "cell_type": "markdown",
      "source": [
        "at this step we import the dataset:\n",
        "this data set has 4846 rows and the first column is sentiment of the text and the second column is the text itself."
      ],
      "metadata": {
        "id": "YfdSU0xFcMdw"
      }
    },
    {
      "cell_type": "code",
      "source": [
        "df=pd.read_csv('/content/drive/MyDrive/NLP/HW2/FinancialPhraseBank-v1.0/all-data.csv',encoding = \"ISO-8859-1\", names=['sentiment','text'], delimiter= ',')\n",
        "df\n"
      ],
      "metadata": {
        "colab": {
          "base_uri": "https://localhost:8080/",
          "height": 423
        },
        "id": "1Ylwym1bm43p",
        "outputId": "914045fa-9915-4ac2-82b0-77a488373ac0"
      },
      "execution_count": null,
      "outputs": [
        {
          "output_type": "execute_result",
          "data": {
            "text/plain": [
              "     sentiment                                               text\n",
              "0      neutral  According to Gran , the company has no plans t...\n",
              "1      neutral  Technopolis plans to develop in stages an area...\n",
              "2     negative  The international electronic industry company ...\n",
              "3     positive  With the new production plant the company woul...\n",
              "4     positive  According to the company 's updated strategy f...\n",
              "...        ...                                                ...\n",
              "4841  negative  LONDON MarketWatch -- Share prices ended lower...\n",
              "4842   neutral  Rinkuskiai 's beer sales fell by 6.5 per cent ...\n",
              "4843  negative  Operating profit fell to EUR 35.4 mn from EUR ...\n",
              "4844  negative  Net sales of the Paper segment decreased to EU...\n",
              "4845  negative  Sales in Finland decreased by 10.5 % in Januar...\n",
              "\n",
              "[4846 rows x 2 columns]"
            ],
            "text/html": [
              "\n",
              "  <div id=\"df-6397bc2d-b363-464d-b1c5-007b09ebec3f\">\n",
              "    <div class=\"colab-df-container\">\n",
              "      <div>\n",
              "<style scoped>\n",
              "    .dataframe tbody tr th:only-of-type {\n",
              "        vertical-align: middle;\n",
              "    }\n",
              "\n",
              "    .dataframe tbody tr th {\n",
              "        vertical-align: top;\n",
              "    }\n",
              "\n",
              "    .dataframe thead th {\n",
              "        text-align: right;\n",
              "    }\n",
              "</style>\n",
              "<table border=\"1\" class=\"dataframe\">\n",
              "  <thead>\n",
              "    <tr style=\"text-align: right;\">\n",
              "      <th></th>\n",
              "      <th>sentiment</th>\n",
              "      <th>text</th>\n",
              "    </tr>\n",
              "  </thead>\n",
              "  <tbody>\n",
              "    <tr>\n",
              "      <th>0</th>\n",
              "      <td>neutral</td>\n",
              "      <td>According to Gran , the company has no plans t...</td>\n",
              "    </tr>\n",
              "    <tr>\n",
              "      <th>1</th>\n",
              "      <td>neutral</td>\n",
              "      <td>Technopolis plans to develop in stages an area...</td>\n",
              "    </tr>\n",
              "    <tr>\n",
              "      <th>2</th>\n",
              "      <td>negative</td>\n",
              "      <td>The international electronic industry company ...</td>\n",
              "    </tr>\n",
              "    <tr>\n",
              "      <th>3</th>\n",
              "      <td>positive</td>\n",
              "      <td>With the new production plant the company woul...</td>\n",
              "    </tr>\n",
              "    <tr>\n",
              "      <th>4</th>\n",
              "      <td>positive</td>\n",
              "      <td>According to the company 's updated strategy f...</td>\n",
              "    </tr>\n",
              "    <tr>\n",
              "      <th>...</th>\n",
              "      <td>...</td>\n",
              "      <td>...</td>\n",
              "    </tr>\n",
              "    <tr>\n",
              "      <th>4841</th>\n",
              "      <td>negative</td>\n",
              "      <td>LONDON MarketWatch -- Share prices ended lower...</td>\n",
              "    </tr>\n",
              "    <tr>\n",
              "      <th>4842</th>\n",
              "      <td>neutral</td>\n",
              "      <td>Rinkuskiai 's beer sales fell by 6.5 per cent ...</td>\n",
              "    </tr>\n",
              "    <tr>\n",
              "      <th>4843</th>\n",
              "      <td>negative</td>\n",
              "      <td>Operating profit fell to EUR 35.4 mn from EUR ...</td>\n",
              "    </tr>\n",
              "    <tr>\n",
              "      <th>4844</th>\n",
              "      <td>negative</td>\n",
              "      <td>Net sales of the Paper segment decreased to EU...</td>\n",
              "    </tr>\n",
              "    <tr>\n",
              "      <th>4845</th>\n",
              "      <td>negative</td>\n",
              "      <td>Sales in Finland decreased by 10.5 % in Januar...</td>\n",
              "    </tr>\n",
              "  </tbody>\n",
              "</table>\n",
              "<p>4846 rows × 2 columns</p>\n",
              "</div>\n",
              "      <button class=\"colab-df-convert\" onclick=\"convertToInteractive('df-6397bc2d-b363-464d-b1c5-007b09ebec3f')\"\n",
              "              title=\"Convert this dataframe to an interactive table.\"\n",
              "              style=\"display:none;\">\n",
              "        \n",
              "  <svg xmlns=\"http://www.w3.org/2000/svg\" height=\"24px\"viewBox=\"0 0 24 24\"\n",
              "       width=\"24px\">\n",
              "    <path d=\"M0 0h24v24H0V0z\" fill=\"none\"/>\n",
              "    <path d=\"M18.56 5.44l.94 2.06.94-2.06 2.06-.94-2.06-.94-.94-2.06-.94 2.06-2.06.94zm-11 1L8.5 8.5l.94-2.06 2.06-.94-2.06-.94L8.5 2.5l-.94 2.06-2.06.94zm10 10l.94 2.06.94-2.06 2.06-.94-2.06-.94-.94-2.06-.94 2.06-2.06.94z\"/><path d=\"M17.41 7.96l-1.37-1.37c-.4-.4-.92-.59-1.43-.59-.52 0-1.04.2-1.43.59L10.3 9.45l-7.72 7.72c-.78.78-.78 2.05 0 2.83L4 21.41c.39.39.9.59 1.41.59.51 0 1.02-.2 1.41-.59l7.78-7.78 2.81-2.81c.8-.78.8-2.07 0-2.86zM5.41 20L4 18.59l7.72-7.72 1.47 1.35L5.41 20z\"/>\n",
              "  </svg>\n",
              "      </button>\n",
              "      \n",
              "  <style>\n",
              "    .colab-df-container {\n",
              "      display:flex;\n",
              "      flex-wrap:wrap;\n",
              "      gap: 12px;\n",
              "    }\n",
              "\n",
              "    .colab-df-convert {\n",
              "      background-color: #E8F0FE;\n",
              "      border: none;\n",
              "      border-radius: 50%;\n",
              "      cursor: pointer;\n",
              "      display: none;\n",
              "      fill: #1967D2;\n",
              "      height: 32px;\n",
              "      padding: 0 0 0 0;\n",
              "      width: 32px;\n",
              "    }\n",
              "\n",
              "    .colab-df-convert:hover {\n",
              "      background-color: #E2EBFA;\n",
              "      box-shadow: 0px 1px 2px rgba(60, 64, 67, 0.3), 0px 1px 3px 1px rgba(60, 64, 67, 0.15);\n",
              "      fill: #174EA6;\n",
              "    }\n",
              "\n",
              "    [theme=dark] .colab-df-convert {\n",
              "      background-color: #3B4455;\n",
              "      fill: #D2E3FC;\n",
              "    }\n",
              "\n",
              "    [theme=dark] .colab-df-convert:hover {\n",
              "      background-color: #434B5C;\n",
              "      box-shadow: 0px 1px 3px 1px rgba(0, 0, 0, 0.15);\n",
              "      filter: drop-shadow(0px 1px 2px rgba(0, 0, 0, 0.3));\n",
              "      fill: #FFFFFF;\n",
              "    }\n",
              "  </style>\n",
              "\n",
              "      <script>\n",
              "        const buttonEl =\n",
              "          document.querySelector('#df-6397bc2d-b363-464d-b1c5-007b09ebec3f button.colab-df-convert');\n",
              "        buttonEl.style.display =\n",
              "          google.colab.kernel.accessAllowed ? 'block' : 'none';\n",
              "\n",
              "        async function convertToInteractive(key) {\n",
              "          const element = document.querySelector('#df-6397bc2d-b363-464d-b1c5-007b09ebec3f');\n",
              "          const dataTable =\n",
              "            await google.colab.kernel.invokeFunction('convertToInteractive',\n",
              "                                                     [key], {});\n",
              "          if (!dataTable) return;\n",
              "\n",
              "          const docLinkHtml = 'Like what you see? Visit the ' +\n",
              "            '<a target=\"_blank\" href=https://colab.research.google.com/notebooks/data_table.ipynb>data table notebook</a>'\n",
              "            + ' to learn more about interactive tables.';\n",
              "          element.innerHTML = '';\n",
              "          dataTable['output_type'] = 'display_data';\n",
              "          await google.colab.output.renderOutput(dataTable, element);\n",
              "          const docLink = document.createElement('div');\n",
              "          docLink.innerHTML = docLinkHtml;\n",
              "          element.appendChild(docLink);\n",
              "        }\n",
              "      </script>\n",
              "    </div>\n",
              "  </div>\n",
              "  "
            ]
          },
          "metadata": {},
          "execution_count": 2
        }
      ]
    },
    {
      "cell_type": "markdown",
      "source": [
        "## Step 1 : preprocessings"
      ],
      "metadata": {
        "id": "QHWIFovWqmyb"
      }
    },
    {
      "cell_type": "code",
      "source": [
        "def clean_text(text):\n",
        "    # Remove URLs, mentions, and hashtags using regular expressions\n",
        "    text = re.sub(r'http\\S+', '', text)\n",
        "    text = re.sub(r'@[A-Za-z0-9_]+', '', text)\n",
        "    text = re.sub(r'#([^\\s]+)', '', text)\n",
        "    # Remove non-alphabetic characters and convert to lowercase\n",
        "    text = re.sub('[^a-zA-Z]', ' ', text.lower())\n",
        "    # Tokenize the text into words\n",
        "    words = word_tokenize(text)\n",
        "    # Remove stop words\n",
        "    words = [w for w in words if not w in set(stopwords.words('english'))]\n",
        "    # Join the remaining words back into a string\n",
        "    text = ' '.join(words)\n",
        "    return text\n"
      ],
      "metadata": {
        "id": "H-9Gw4iBoV5J"
      },
      "execution_count": null,
      "outputs": []
    },
    {
      "cell_type": "code",
      "source": [
        "df['text'] = df['text'].apply(lambda x : clean_text(x))\n",
        "df.head()"
      ],
      "metadata": {
        "colab": {
          "base_uri": "https://localhost:8080/",
          "height": 206
        },
        "id": "m-Pb9MjN0ieX",
        "outputId": "29eb4d88-82f2-4915-a3d8-619de1e2d826"
      },
      "execution_count": null,
      "outputs": [
        {
          "output_type": "execute_result",
          "data": {
            "text/plain": [
              "  sentiment                                               text\n",
              "0   neutral  according gran company plans move production r...\n",
              "1   neutral  technopolis plans develop stages area less squ...\n",
              "2  negative  international electronic industry company elco...\n",
              "3  positive  new production plant company would increase ca...\n",
              "4  positive  according company updated strategy years baswa..."
            ],
            "text/html": [
              "\n",
              "  <div id=\"df-15beb9a8-3712-4984-a13e-5fd16dcad00f\">\n",
              "    <div class=\"colab-df-container\">\n",
              "      <div>\n",
              "<style scoped>\n",
              "    .dataframe tbody tr th:only-of-type {\n",
              "        vertical-align: middle;\n",
              "    }\n",
              "\n",
              "    .dataframe tbody tr th {\n",
              "        vertical-align: top;\n",
              "    }\n",
              "\n",
              "    .dataframe thead th {\n",
              "        text-align: right;\n",
              "    }\n",
              "</style>\n",
              "<table border=\"1\" class=\"dataframe\">\n",
              "  <thead>\n",
              "    <tr style=\"text-align: right;\">\n",
              "      <th></th>\n",
              "      <th>sentiment</th>\n",
              "      <th>text</th>\n",
              "    </tr>\n",
              "  </thead>\n",
              "  <tbody>\n",
              "    <tr>\n",
              "      <th>0</th>\n",
              "      <td>neutral</td>\n",
              "      <td>according gran company plans move production r...</td>\n",
              "    </tr>\n",
              "    <tr>\n",
              "      <th>1</th>\n",
              "      <td>neutral</td>\n",
              "      <td>technopolis plans develop stages area less squ...</td>\n",
              "    </tr>\n",
              "    <tr>\n",
              "      <th>2</th>\n",
              "      <td>negative</td>\n",
              "      <td>international electronic industry company elco...</td>\n",
              "    </tr>\n",
              "    <tr>\n",
              "      <th>3</th>\n",
              "      <td>positive</td>\n",
              "      <td>new production plant company would increase ca...</td>\n",
              "    </tr>\n",
              "    <tr>\n",
              "      <th>4</th>\n",
              "      <td>positive</td>\n",
              "      <td>according company updated strategy years baswa...</td>\n",
              "    </tr>\n",
              "  </tbody>\n",
              "</table>\n",
              "</div>\n",
              "      <button class=\"colab-df-convert\" onclick=\"convertToInteractive('df-15beb9a8-3712-4984-a13e-5fd16dcad00f')\"\n",
              "              title=\"Convert this dataframe to an interactive table.\"\n",
              "              style=\"display:none;\">\n",
              "        \n",
              "  <svg xmlns=\"http://www.w3.org/2000/svg\" height=\"24px\"viewBox=\"0 0 24 24\"\n",
              "       width=\"24px\">\n",
              "    <path d=\"M0 0h24v24H0V0z\" fill=\"none\"/>\n",
              "    <path d=\"M18.56 5.44l.94 2.06.94-2.06 2.06-.94-2.06-.94-.94-2.06-.94 2.06-2.06.94zm-11 1L8.5 8.5l.94-2.06 2.06-.94-2.06-.94L8.5 2.5l-.94 2.06-2.06.94zm10 10l.94 2.06.94-2.06 2.06-.94-2.06-.94-.94-2.06-.94 2.06-2.06.94z\"/><path d=\"M17.41 7.96l-1.37-1.37c-.4-.4-.92-.59-1.43-.59-.52 0-1.04.2-1.43.59L10.3 9.45l-7.72 7.72c-.78.78-.78 2.05 0 2.83L4 21.41c.39.39.9.59 1.41.59.51 0 1.02-.2 1.41-.59l7.78-7.78 2.81-2.81c.8-.78.8-2.07 0-2.86zM5.41 20L4 18.59l7.72-7.72 1.47 1.35L5.41 20z\"/>\n",
              "  </svg>\n",
              "      </button>\n",
              "      \n",
              "  <style>\n",
              "    .colab-df-container {\n",
              "      display:flex;\n",
              "      flex-wrap:wrap;\n",
              "      gap: 12px;\n",
              "    }\n",
              "\n",
              "    .colab-df-convert {\n",
              "      background-color: #E8F0FE;\n",
              "      border: none;\n",
              "      border-radius: 50%;\n",
              "      cursor: pointer;\n",
              "      display: none;\n",
              "      fill: #1967D2;\n",
              "      height: 32px;\n",
              "      padding: 0 0 0 0;\n",
              "      width: 32px;\n",
              "    }\n",
              "\n",
              "    .colab-df-convert:hover {\n",
              "      background-color: #E2EBFA;\n",
              "      box-shadow: 0px 1px 2px rgba(60, 64, 67, 0.3), 0px 1px 3px 1px rgba(60, 64, 67, 0.15);\n",
              "      fill: #174EA6;\n",
              "    }\n",
              "\n",
              "    [theme=dark] .colab-df-convert {\n",
              "      background-color: #3B4455;\n",
              "      fill: #D2E3FC;\n",
              "    }\n",
              "\n",
              "    [theme=dark] .colab-df-convert:hover {\n",
              "      background-color: #434B5C;\n",
              "      box-shadow: 0px 1px 3px 1px rgba(0, 0, 0, 0.15);\n",
              "      filter: drop-shadow(0px 1px 2px rgba(0, 0, 0, 0.3));\n",
              "      fill: #FFFFFF;\n",
              "    }\n",
              "  </style>\n",
              "\n",
              "      <script>\n",
              "        const buttonEl =\n",
              "          document.querySelector('#df-15beb9a8-3712-4984-a13e-5fd16dcad00f button.colab-df-convert');\n",
              "        buttonEl.style.display =\n",
              "          google.colab.kernel.accessAllowed ? 'block' : 'none';\n",
              "\n",
              "        async function convertToInteractive(key) {\n",
              "          const element = document.querySelector('#df-15beb9a8-3712-4984-a13e-5fd16dcad00f');\n",
              "          const dataTable =\n",
              "            await google.colab.kernel.invokeFunction('convertToInteractive',\n",
              "                                                     [key], {});\n",
              "          if (!dataTable) return;\n",
              "\n",
              "          const docLinkHtml = 'Like what you see? Visit the ' +\n",
              "            '<a target=\"_blank\" href=https://colab.research.google.com/notebooks/data_table.ipynb>data table notebook</a>'\n",
              "            + ' to learn more about interactive tables.';\n",
              "          element.innerHTML = '';\n",
              "          dataTable['output_type'] = 'display_data';\n",
              "          await google.colab.output.renderOutput(dataTable, element);\n",
              "          const docLink = document.createElement('div');\n",
              "          docLink.innerHTML = docLinkHtml;\n",
              "          element.appendChild(docLink);\n",
              "        }\n",
              "      </script>\n",
              "    </div>\n",
              "  </div>\n",
              "  "
            ]
          },
          "metadata": {},
          "execution_count": 4
        }
      ]
    },
    {
      "cell_type": "markdown",
      "source": [
        "**first we ran without dropping index 2983 and when we saw embeddings of df, we saw the embedding of 2983th item is zero. so we dropped it**"
      ],
      "metadata": {
        "id": "M6bzFL5su7-a"
      }
    },
    {
      "cell_type": "code",
      "source": [
        "df = df.drop(df.index[2983])"
      ],
      "metadata": {
        "id": "U3M98LIupFg2"
      },
      "execution_count": null,
      "outputs": []
    },
    {
      "cell_type": "markdown",
      "source": [
        "## Part2 : create embeddings using GloVe"
      ],
      "metadata": {
        "id": "U4nLAVwr1rsB"
      }
    },
    {
      "cell_type": "markdown",
      "source": [
        "First we get the glove pretrained word vectors: (we use 6B as said in HW)"
      ],
      "metadata": {
        "id": "PcpgaIK92vTY"
      }
    },
    {
      "cell_type": "code",
      "source": [
        "!wget http://nlp.stanford.edu/data/glove.6B.zip"
      ],
      "metadata": {
        "colab": {
          "base_uri": "https://localhost:8080/"
        },
        "id": "yrqE7w2Mphuy",
        "outputId": "eafeed94-9879-4b0d-bd13-439e8a0b7702"
      },
      "execution_count": null,
      "outputs": [
        {
          "output_type": "stream",
          "name": "stdout",
          "text": [
            "--2023-04-29 11:19:39--  http://nlp.stanford.edu/data/glove.6B.zip\n",
            "Resolving nlp.stanford.edu (nlp.stanford.edu)... 171.64.67.140\n",
            "Connecting to nlp.stanford.edu (nlp.stanford.edu)|171.64.67.140|:80... connected.\n",
            "HTTP request sent, awaiting response... 302 Found\n",
            "Location: https://nlp.stanford.edu/data/glove.6B.zip [following]\n",
            "--2023-04-29 11:19:40--  https://nlp.stanford.edu/data/glove.6B.zip\n",
            "Connecting to nlp.stanford.edu (nlp.stanford.edu)|171.64.67.140|:443... connected.\n",
            "HTTP request sent, awaiting response... 301 Moved Permanently\n",
            "Location: https://downloads.cs.stanford.edu/nlp/data/glove.6B.zip [following]\n",
            "--2023-04-29 11:19:40--  https://downloads.cs.stanford.edu/nlp/data/glove.6B.zip\n",
            "Resolving downloads.cs.stanford.edu (downloads.cs.stanford.edu)... 171.64.64.22\n",
            "Connecting to downloads.cs.stanford.edu (downloads.cs.stanford.edu)|171.64.64.22|:443... connected.\n",
            "HTTP request sent, awaiting response... 200 OK\n",
            "Length: 862182613 (822M) [application/zip]\n",
            "Saving to: ‘glove.6B.zip’\n",
            "\n",
            "glove.6B.zip        100%[===================>] 822.24M  5.07MB/s    in 2m 39s  \n",
            "\n",
            "2023-04-29 11:22:19 (5.16 MB/s) - ‘glove.6B.zip’ saved [862182613/862182613]\n",
            "\n"
          ]
        }
      ]
    },
    {
      "cell_type": "markdown",
      "source": [
        "then we unzip the downloaded files"
      ],
      "metadata": {
        "id": "lktdylXZ3CGk"
      }
    },
    {
      "cell_type": "code",
      "source": [
        "!unzip glove.6B.zip"
      ],
      "metadata": {
        "colab": {
          "base_uri": "https://localhost:8080/"
        },
        "id": "Wegb28S1phxq",
        "outputId": "bf74ccbd-b007-40bd-cde5-c69e57049c46"
      },
      "execution_count": null,
      "outputs": [
        {
          "output_type": "stream",
          "name": "stdout",
          "text": [
            "Archive:  glove.6B.zip\n",
            "  inflating: glove.6B.50d.txt        \n",
            "  inflating: glove.6B.100d.txt       \n",
            "  inflating: glove.6B.200d.txt       \n",
            "  inflating: glove.6B.300d.txt       \n"
          ]
        }
      ]
    },
    {
      "cell_type": "markdown",
      "source": [
        "create an array of all 100d embeddings of each word"
      ],
      "metadata": {
        "id": "hYjcPJwKrRtP"
      }
    },
    {
      "cell_type": "code",
      "source": [
        "# Initialize an empty dictionary to store the word embeddings\n",
        "glv_embedding = {}\n",
        "\n",
        "# Open the file and read line by line\n",
        "with open('glove.6B.100d.txt', 'r', encoding='utf-8') as file:\n",
        "    for line in file:\n",
        "        # Split each line by space\n",
        "        values = line.split()\n",
        "        # The first value is the word itself\n",
        "        word = values[0]\n",
        "        # The remaining values are the coefficients for the word embedding\n",
        "        coefficients = np.asarray(values[1:], dtype='float32')\n",
        "        # Add the word and its coefficients to the dictionary\n",
        "        glv_embedding[word] = coefficients\n",
        "\n",
        "\n",
        "  "
      ],
      "metadata": {
        "id": "DtLdfCAKqazB"
      },
      "execution_count": null,
      "outputs": []
    },
    {
      "cell_type": "code",
      "source": [
        "def get_sentence_embedding(sentence, embeddings):\n",
        "    # Initialize an empty list to store the embeddings for each word\n",
        "    word_embeddings = []\n",
        "    \n",
        "    # Iterate over each word in the sentence\n",
        "    for word in sentence:\n",
        "        # Check if the word is in the embedding dictionary\n",
        "        if word in embeddings:\n",
        "            # Get the embedding vector for the word and append it to the list\n",
        "            embedding_vector = embeddings[word]\n",
        "            word_embeddings.append(embedding_vector)\n",
        "    \n",
        "    # If there are no embeddings for any of the words in the sentence, return None\n",
        "    if not word_embeddings:\n",
        "        return None\n",
        "    \n",
        "    # Compute the mean of the embeddings for all the words in the sentence\n",
        "    sentence_embedding = np.mean(word_embeddings, axis=0)\n",
        "    \n",
        "    return sentence_embedding"
      ],
      "metadata": {
        "id": "LuaaSj7QutYJ"
      },
      "execution_count": null,
      "outputs": []
    },
    {
      "cell_type": "code",
      "source": [
        "# Initialize an empty list to store the preprocessed sentences\n",
        "preprocessed_sentences = []\n",
        "vectors = []\n",
        "\n",
        "# Iterate over the rows of the DataFrame\n",
        "for _, row in df.iterrows():\n",
        "    # Convert the text to lowercase and tokenize it into words\n",
        "    words = [word.lower() for word in word_tokenize(row['text']) if word.isalpha()]\n",
        "    # Append the list of words to the preprocessed_sentences list\n",
        "    preprocessed_sentences.append(words)\n",
        "\n",
        "    vec = get_sentence_embedding(words,glv_embedding)\n",
        "    vectors.append(vec)"
      ],
      "metadata": {
        "id": "XvtDB-Usqa6v"
      },
      "execution_count": null,
      "outputs": []
    },
    {
      "cell_type": "markdown",
      "source": [
        "Implement a function to turn column of negative and possitive to -1,1 and 0"
      ],
      "metadata": {
        "id": "GocJohIjDJni"
      }
    },
    {
      "cell_type": "code",
      "source": [
        "def oneHot(row):\n",
        "  if row=='negative': return -1\n",
        "  if row=='neutral' : return  0\n",
        "  if row=='positive' : return +1"
      ],
      "metadata": {
        "id": "oo0ZnJZ3dnz5"
      },
      "execution_count": null,
      "outputs": []
    },
    {
      "cell_type": "code",
      "source": [
        "df['sentiment'] = df['sentiment'].apply(oneHot)"
      ],
      "metadata": {
        "id": "tmrZLpusvAnv"
      },
      "execution_count": null,
      "outputs": []
    },
    {
      "cell_type": "markdown",
      "source": [
        "## Step 3 :Splitting train and test"
      ],
      "metadata": {
        "id": "GDciMJfXFge6"
      }
    },
    {
      "cell_type": "code",
      "source": [
        "X_train, X_test, y_train, y_test = train_test_split(np.array(vectors), df['sentiment'],  test_size= 0.1, random_state= 45,shuffle=True)"
      ],
      "metadata": {
        "id": "xIuaxwuvvCOP"
      },
      "execution_count": null,
      "outputs": []
    },
    {
      "cell_type": "code",
      "source": [
        "lr = LogisticRegression()\n",
        "lr.fit(X_train, y_train)\n",
        "y_pred = lr.predict(X_test)\n",
        "cm = confusion_matrix(y_pred, y_test)"
      ],
      "metadata": {
        "colab": {
          "base_uri": "https://localhost:8080/"
        },
        "id": "P6njyzPomkpd",
        "outputId": "1d9216a3-0b50-4afc-e3be-1b3cb2fb6e63"
      },
      "execution_count": null,
      "outputs": [
        {
          "output_type": "stream",
          "name": "stderr",
          "text": [
            "/usr/local/lib/python3.10/dist-packages/sklearn/linear_model/_logistic.py:458: ConvergenceWarning: lbfgs failed to converge (status=1):\n",
            "STOP: TOTAL NO. of ITERATIONS REACHED LIMIT.\n",
            "\n",
            "Increase the number of iterations (max_iter) or scale the data as shown in:\n",
            "    https://scikit-learn.org/stable/modules/preprocessing.html\n",
            "Please also refer to the documentation for alternative solver options:\n",
            "    https://scikit-learn.org/stable/modules/linear_model.html#logistic-regression\n",
            "  n_iter_i = _check_optimize_result(\n"
          ]
        }
      ]
    },
    {
      "cell_type": "code",
      "execution_count": null,
      "metadata": {
        "colab": {
          "base_uri": "https://localhost:8080/",
          "height": 729
        },
        "id": "_EmmMNqVREEi",
        "outputId": "bb39644b-24da-45e6-90c9-38ae7c3d57e4"
      },
      "outputs": [
        {
          "output_type": "stream",
          "name": "stdout",
          "text": [
            "\n",
            "Accuracy on test set: 0.715\n",
            "\n",
            "Confusion matrix:\n",
            "[[ 25   6   6]\n",
            " [ 20 255  66]\n",
            " [ 10  26  71]]\n"
          ]
        },
        {
          "output_type": "display_data",
          "data": {
            "text/plain": [
              "<Figure size 480x480 with 2 Axes>"
            ],
            "image/png": "[encoded data removed]"
          },
          "metadata": {}
        },
        {
          "output_type": "stream",
          "name": "stdout",
          "text": [
            "\n",
            "               precision    recall  f1-score   support\n",
            "\n",
            "          -1       0.68      0.45      0.54        55\n",
            "           0       0.75      0.89      0.81       287\n",
            "           1       0.66      0.50      0.57       143\n",
            "\n",
            "    accuracy                           0.72       485\n",
            "   macro avg       0.70      0.61      0.64       485\n",
            "weighted avg       0.71      0.72      0.71       485\n",
            "\n"
          ]
        }
      ],
      "source": [
        "print(\"\\nAccuracy on test set: {:.3f}\\n\".format(lr.score(X_train,y_train )) )\n",
        "print(\"Confusion matrix:\\n{}\".format(cm))\n",
        "\n",
        "\n",
        "#Show confusion matrix in a separate window\n",
        "plt.matshow(cm)\n",
        "plt.title('Confusion matrix')\n",
        "plt.colorbar()\n",
        "plt.ylabel('True label')\n",
        "plt.xlabel('Predicted label')\n",
        "plt.show()\n",
        "\n",
        "print(\"\\n\",classification_report(y_test,y_pred))"
      ]
    },
    {
      "cell_type": "markdown",
      "source": [
        "# **Part B**"
      ],
      "metadata": {
        "id": "C80cd-9Q6fE5"
      }
    },
    {
      "cell_type": "markdown",
      "source": [
        "In this part we want to know what is the impact of imbalanced dat, so first we plot the data distribution:"
      ],
      "metadata": {
        "id": "yzyH3SyQ6oCR"
      }
    },
    {
      "cell_type": "code",
      "source": [
        "sns.countplot(x = 'sentiment', data = df)\n"
      ],
      "metadata": {
        "colab": {
          "base_uri": "https://localhost:8080/",
          "height": 469
        },
        "id": "52tMH6GE0pJW",
        "outputId": "b8b57a4e-c7aa-4582-a82c-82b1543b3185"
      },
      "execution_count": null,
      "outputs": [
        {
          "output_type": "execute_result",
          "data": {
            "text/plain": [
              "<Axes: xlabel='sentiment', ylabel='count'>"
            ]
          },
          "metadata": {},
          "execution_count": 24
        },
        {
          "output_type": "display_data",
          "data": {
            "text/plain": [
              "<Figure size 640x480 with 1 Axes>"
            ],
            "image/png": "[encoded data removed]"
          },
          "metadata": {}
        }
      ]
    },
    {
      "cell_type": "markdown",
      "source": [
        "# **Part C**"
      ],
      "metadata": {
        "id": "aNrAO0DX812U"
      }
    },
    {
      "cell_type": "code",
      "source": [
        "from sklearn.naive_bayes import GaussianNB\n",
        "nb = GaussianNB()\n",
        "nb.fit(X_train, y_train)\n",
        "y_pred_nb = lr.predict(X_test)\n",
        "cm_nb = confusion_matrix(y_pred_nb, y_test)"
      ],
      "metadata": {
        "id": "ZzWxX_BI85k6"
      },
      "execution_count": null,
      "outputs": []
    },
    {
      "cell_type": "code",
      "source": [
        "print(\"\\nAccuracy on test set: {:.3f}\\n\".format(nb.score(X_train,y_train )) )\n",
        "print(\"Confusion matrix:\\n{}\".format(cm_nb))\n",
        "\n",
        "\n",
        "#Show confusion matrix in a separate window\n",
        "plt.matshow(cm_nb)\n",
        "plt.title('Confusion matrix')\n",
        "plt.colorbar()\n",
        "plt.ylabel('True label')\n",
        "plt.xlabel('Predicted label')\n",
        "plt.show()\n",
        "\n",
        "print(\"\\n\",classification_report(y_test,y_pred_nb))"
      ],
      "metadata": {
        "colab": {
          "base_uri": "https://localhost:8080/",
          "height": 729
        },
        "id": "QlZlGRmJ8_p_",
        "outputId": "29f74362-fd9a-492b-b088-72cb98a6e854"
      },
      "execution_count": null,
      "outputs": [
        {
          "output_type": "stream",
          "name": "stdout",
          "text": [
            "\n",
            "Accuracy on test set: 0.597\n",
            "\n",
            "Confusion matrix:\n",
            "[[ 25   6   6]\n",
            " [ 20 255  66]\n",
            " [ 10  26  71]]\n"
          ]
        },
        {
          "output_type": "display_data",
          "data": {
            "text/plain": [
              "<Figure size 480x480 with 2 Axes>"
            ],
            "image/png": "[encoded data removed]"
          },
          "metadata": {}
        },
        {
          "output_type": "stream",
          "name": "stdout",
          "text": [
            "\n",
            "               precision    recall  f1-score   support\n",
            "\n",
            "          -1       0.68      0.45      0.54        55\n",
            "           0       0.75      0.89      0.81       287\n",
            "           1       0.66      0.50      0.57       143\n",
            "\n",
            "    accuracy                           0.72       485\n",
            "   macro avg       0.70      0.61      0.64       485\n",
            "weighted avg       0.71      0.72      0.71       485\n",
            "\n"
          ]
        }
      ]
    }
  ]
}