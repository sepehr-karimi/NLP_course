{
 "cells": [
  {
   "attachments": {},
   "cell_type": "markdown",
   "metadata": {},
   "source": [
    "# Question 1: approach 1"
   ]
  },
  {
   "attachments": {},
   "cell_type": "markdown",
   "metadata": {},
   "source": [
    "### creating **nlu.yml**"
   ]
  },
  {
   "cell_type": "code",
   "execution_count": null,
   "metadata": {},
   "outputs": [],
   "source": [
    "import pandas as pd\n",
    "\n",
    "# Read the Excel file\n",
    "df = pd.read_excel('./Data/MCI_Internet_TrainData.xlsx')\n",
    "\n",
    "# Define the intent name\n",
    "intent_name = 'faq'\n",
    "\n",
    "# Open the nlu.yml file in write mode\n",
    "with open('nlu.yml', 'w') as file:\n",
    "    # Iterate over the rows of the DataFrame\n",
    "    file.write('version: \"3.1\"\\n\\nnlu:')\n",
    "\n",
    "    for index, row in df.iterrows():\n",
    "        print(index)\n",
    "        # Extract the examples from the desired columns (7 to 17)\n",
    "        examples = '\\n    - '.join(row[7:22].astype(str))\n",
    "        \n",
    "        # Write the intent and examples to the nlu.yml file\n",
    "        file.write(f'\\n- intent: {intent_name}_{index+1}\\n')\n",
    "        file.write('  examples: |\\n    -')\n",
    "        file.write(f' {examples}\\n')\n",
    "\n"
   ]
  },
  {
   "attachments": {},
   "cell_type": "markdown",
   "metadata": {},
   "source": [
    "### creating **domain.yml**"
   ]
  },
  {
   "cell_type": "code",
   "execution_count": 31,
   "metadata": {},
   "outputs": [],
   "source": [
    "import pandas as pd\n",
    "\n",
    "# Read the Excel file\n",
    "df = pd.read_excel('./Data/MCI_Internet_TrainData.xlsx')\n",
    "\n",
    "# Define the intent name\n",
    "intent_name = 'faq'\n",
    "\n",
    "# Open the nlu.yml file in write mode\n",
    "with open('domain.yml', 'w') as file:\n",
    "    # Iterate over the rows of the DataFrame\n",
    "    file.write('version: \"3.1\"\\n\\nintents:\\n')\n",
    "    for i in range(50):\n",
    "        file.write(f'  - faq_{i+1}\\n')\n",
    "    file.write('\\nresponses:\\n')\n",
    "\n",
    "    for index, row in df.iterrows():\n",
    "        # Extract the examples from the desired columns (7 to 17)\n",
    "        \n",
    "        # Write the intent and examples to the nlu.yml file\n",
    "        #file.write(f'\\n- intent: {intent_name}_{index+1}\\n')\n",
    "        #file.write('  examples: |\\n    -')\n",
    "        file.write(f'  utter_faq_{index+1}:\\n  - text: \"{row[1]}\"\\n\\n')\n",
    "        \n",
    "    file.write('session_config:\\n  session_expiration_time: 60\\n  carry_over_slots_to_new_session: true\\n')\n",
    "\n"
   ]
  },
  {
   "attachments": {},
   "cell_type": "markdown",
   "metadata": {},
   "source": [
    "### creating **rules.yml**"
   ]
  },
  {
   "cell_type": "code",
   "execution_count": 33,
   "metadata": {},
   "outputs": [],
   "source": [
    "with open('rules.yml', 'w') as file:\n",
    "    # Iterate over the rows of the DataFrame\n",
    "    file.write('version: \"3.1\"\\n\\nrules:\\n\\n')\n",
    "    \n",
    "    for i in range(50):\n",
    "        file.write(f'- rule: faq {i+1}\\n')\n",
    "        file.write(f'  steps:\\n')\n",
    "        file.write(f'  - intent: faq_{i+1}\\n')\n",
    "        file.write(f'  - action: utter_faq_{i+1}\\n\\n')\n",
    "    #file.write('\\nresponses:\\n')"
   ]
  },
  {
   "attachments": {},
   "cell_type": "markdown",
   "metadata": {},
   "source": [
    "### creating **nlu_test.yml**"
   ]
  },
  {
   "cell_type": "code",
   "execution_count": null,
   "metadata": {},
   "outputs": [],
   "source": [
    "import pandas as pd\n",
    "\n",
    "# Read the Excel file\n",
    "df = pd.read_excel('./Data/MCI_Internet_TestData.xlsx')\n",
    "\n",
    "# Define the intent name\n",
    "intent_name = 'faq'\n",
    "\n",
    "# Open the nlu.yml file in write mode\n",
    "with open('test_nlu.yml', 'w') as file:\n",
    "    # Iterate over the rows of the DataFrame\n",
    "    file.write('version: \"3.1\"\\n\\nnlu:')\n",
    "\n",
    "    for index, row in df.iterrows():\n",
    "        print(index)\n",
    "        # Extract the examples from the desired columns (7 to 17)\n",
    "        examples = '\\n    - '.join(row[7:12].astype(str))\n",
    "        \n",
    "        # Write the intent and examples to the nlu.yml file\n",
    "        file.write(f'\\n- intent: {intent_name}_{index+1}\\n')\n",
    "        file.write('  examples: |\\n    -')\n",
    "        file.write(f' {examples}\\n')\n"
   ]
  },
  {
   "attachments": {},
   "cell_type": "markdown",
   "metadata": {},
   "source": [
    "# Question 1: approach 2"
   ]
  },
  {
   "attachments": {},
   "cell_type": "markdown",
   "metadata": {},
   "source": [
    "### creating **nlu.yml**"
   ]
  },
  {
   "cell_type": "code",
   "execution_count": null,
   "metadata": {},
   "outputs": [],
   "source": [
    "import pandas as pd\n",
    "\n",
    "# Read the Excel file\n",
    "df = pd.read_excel('./Data/MCI_Internet_TrainData.xlsx')\n",
    "\n",
    "# Define the intent name\n",
    "intent_name = 'faq'\n",
    "\n",
    "# Open the nlu.yml file in write mode\n",
    "with open('nlu.yml', 'w') as file:\n",
    "    # Iterate over the rows of the DataFrame\n",
    "    file.write('version: \"3.1\"\\n\\nnlu:')\n",
    "\n",
    "    for index, row in df.iterrows():\n",
    "        print(index)\n",
    "        # Extract the examples from the desired columns (7 to 17)\n",
    "        examples = '\\n    - '.join(row[7:22].astype(str))\n",
    "        \n",
    "        # Write the intent and examples to the nlu.yml file\n",
    "        file.write(f'\\n- intent: {intent_name}/{index+1}\\n')\n",
    "        file.write('  examples: |\\n    -')\n",
    "        file.write(f' {examples}\\n')\n"
   ]
  },
  {
   "attachments": {},
   "cell_type": "markdown",
   "metadata": {},
   "source": [
    "### creating **domain.yml**"
   ]
  },
  {
   "cell_type": "code",
   "execution_count": 4,
   "metadata": {},
   "outputs": [],
   "source": [
    "import pandas as pd\n",
    "\n",
    "# Read the Excel file\n",
    "df = pd.read_excel('./Data/MCI_Internet_TrainData.xlsx')\n",
    "\n",
    "# Define the intent name\n",
    "intent_name = 'faq'\n",
    "\n",
    "# Open the nlu.yml file in write mode\n",
    "with open('domain.yml', 'w') as file:\n",
    "    # Iterate over the rows of the DataFrame\n",
    "    file.write('version: \"3.1\"\\n\\nintents:\\n')\n",
    "    for i in range(1):\n",
    "        file.write(f'  - faq\\n')\n",
    "    file.write('\\nresponses:\\n')\n",
    "\n",
    "    for index, row in df.iterrows():\n",
    "        # Extract the examples from the desired columns (7 to 17)\n",
    "        \n",
    "        # Write the intent and examples to the nlu.yml file\n",
    "        #file.write(f'\\n- intent: {intent_name}_{index+1}\\n')\n",
    "        #file.write('  examples: |\\n    -')\n",
    "        file.write(f'  utter_faq/{index+1}:\\n  - text: \"{row[1]}\"\\n\\n')\n",
    "        \n",
    "    file.write('session_config:\\n  session_expiration_time: 60\\n  carry_over_slots_to_new_session: true\\n')"
   ]
  },
  {
   "attachments": {},
   "cell_type": "markdown",
   "metadata": {},
   "source": [
    "### creating **nlu_test.yml**"
   ]
  },
  {
   "cell_type": "code",
   "execution_count": null,
   "metadata": {},
   "outputs": [],
   "source": [
    "import pandas as pd\n",
    "\n",
    "# Read the Excel file\n",
    "df = pd.read_excel('./Data/MCI_Internet_TestData.xlsx')\n",
    "\n",
    "# Define the intent name\n",
    "intent_name = 'faq'\n",
    "\n",
    "# Open the nlu.yml file in write mode\n",
    "with open('test_nlu.yml', 'w') as file:\n",
    "    # Iterate over the rows of the DataFrame\n",
    "    file.write('version: \"3.1\"\\n\\nnlu:')\n",
    "\n",
    "    for index, row in df.iterrows():\n",
    "        print(index)\n",
    "        # Extract the examples from the desired columns (7 to 17)\n",
    "        examples = '\\n    - '.join(row[7:12].astype(str))\n",
    "        \n",
    "        # Write the intent and examples to the nlu.yml file\n",
    "        file.write(f'\\n- intent: {intent_name}/{index+1}\\n')\n",
    "        file.write('  examples: |\\n    -')\n",
    "        file.write(f' {examples}\\n')"
   ]
  }
 ],
 "metadata": {
  "kernelspec": {
   "display_name": "Python 3",
   "language": "python",
   "name": "python3"
  },
  "language_info": {
   "codemirror_mode": {
    "name": "ipython",
    "version": 3
   },
   "file_extension": ".py",
   "mimetype": "text/x-python",
   "name": "python",
   "nbconvert_exporter": "python",
   "pygments_lexer": "ipython3",
   "version": "3.8.6"
  },
  "orig_nbformat": 4
 },
 "nbformat": 4,
 "nbformat_minor": 2
}
